{
 "cells": [
  {
   "cell_type": "code",
   "execution_count": 1,
   "metadata": {},
   "outputs": [],
   "source": [
    "import numpy as np\n",
    "import pandas as pd\n",
    "\n",
    "import re"
   ]
  },
  {
   "cell_type": "code",
   "execution_count": null,
   "metadata": {},
   "outputs": [],
   "source": [
    "# !git clone https://github.com/cse151a-DrugReviewAnalysis/DrugReviewAnalysis.git"
   ]
  },
  {
   "cell_type": "code",
   "execution_count": 9,
   "metadata": {},
   "outputs": [],
   "source": [
    "# df_train = pd.read_csv(\"DrugReviewAnalysis/drugsComTrain_raw.tsv\", sep=\"\\t\")\n",
    "# df_test = pd.read_csv(\"DrugReviewAnalysis/drugsComTest_raw.tsv\", sep=\"\\t\")\n",
    "\n",
    "df_train = pd.read_csv(\"drugsComTrain_raw.tsv\", sep=\"\\t\")\n",
    "df_test = pd.read_csv(\"drugsComTest_raw.tsv\", sep=\"\\t\")"
   ]
  },
  {
   "cell_type": "code",
   "execution_count": 10,
   "metadata": {},
   "outputs": [],
   "source": [
    "df_train = df_train[df_train[\"condition\"].str.contains(\"users found this comment helpful.\")==False]\n",
    "df_test = df_test[df_test[\"condition\"].str.contains(\"users found this comment helpful.\")==False]\n",
    "\n",
    "df_train[\"timestamp\"] = df_train[\"date\"].apply(lambda x: pd.Timestamp(x))\n",
    "df_test[\"timestamp\"] = df_test[\"date\"].apply(lambda x: pd.Timestamp(x))\n",
    "\n",
    "df_train = df_train.drop(columns=\"Unnamed: 0\")\n",
    "df_test = df_test.drop(columns=\"Unnamed: 0\")\n",
    "\n",
    "df_train[\"review\"] = df_train[\"review\"].str.replace('&#039;', \"'\", regex=False)\n",
    "df_test[\"review\"] = df_test[\"review\"].str.replace('&#039;', \"'\", regex=False)"
   ]
  },
  {
   "cell_type": "code",
   "execution_count": 12,
   "metadata": {},
   "outputs": [],
   "source": [
    "df_train[\"review\"] = df_train[\"review\"].str.replace('\"', \"\", regex=False)\n",
    "df_test[\"review\"] = df_test[\"review\"].str.replace('\"', \"\", regex=False)"
   ]
  },
  {
   "cell_type": "code",
   "execution_count": 11,
   "metadata": {},
   "outputs": [
    {
     "data": {
      "text/html": [
       "<div>\n",
       "<style scoped>\n",
       "    .dataframe tbody tr th:only-of-type {\n",
       "        vertical-align: middle;\n",
       "    }\n",
       "\n",
       "    .dataframe tbody tr th {\n",
       "        vertical-align: top;\n",
       "    }\n",
       "\n",
       "    .dataframe thead th {\n",
       "        text-align: right;\n",
       "    }\n",
       "</style>\n",
       "<table border=\"1\" class=\"dataframe\">\n",
       "  <thead>\n",
       "    <tr style=\"text-align: right;\">\n",
       "      <th></th>\n",
       "      <th>drugName</th>\n",
       "      <th>condition</th>\n",
       "      <th>review</th>\n",
       "      <th>rating</th>\n",
       "      <th>date</th>\n",
       "      <th>usefulCount</th>\n",
       "      <th>timestamp</th>\n",
       "    </tr>\n",
       "  </thead>\n",
       "  <tbody>\n",
       "    <tr>\n",
       "      <th>0</th>\n",
       "      <td>Valsartan</td>\n",
       "      <td>Left Ventricular Dysfunction</td>\n",
       "      <td>It has no side effect, I take it in combinatio...</td>\n",
       "      <td>9.0</td>\n",
       "      <td>May 20, 2012</td>\n",
       "      <td>27</td>\n",
       "      <td>2012-05-20</td>\n",
       "    </tr>\n",
       "    <tr>\n",
       "      <th>1</th>\n",
       "      <td>Guanfacine</td>\n",
       "      <td>ADHD</td>\n",
       "      <td>My son is halfway through his fourth week of I...</td>\n",
       "      <td>8.0</td>\n",
       "      <td>April 27, 2010</td>\n",
       "      <td>192</td>\n",
       "      <td>2010-04-27</td>\n",
       "    </tr>\n",
       "    <tr>\n",
       "      <th>2</th>\n",
       "      <td>Lybrel</td>\n",
       "      <td>Birth Control</td>\n",
       "      <td>I used to take another oral contraceptive, whi...</td>\n",
       "      <td>5.0</td>\n",
       "      <td>December 14, 2009</td>\n",
       "      <td>17</td>\n",
       "      <td>2009-12-14</td>\n",
       "    </tr>\n",
       "    <tr>\n",
       "      <th>3</th>\n",
       "      <td>Ortho Evra</td>\n",
       "      <td>Birth Control</td>\n",
       "      <td>This is my first time using any form of birth ...</td>\n",
       "      <td>8.0</td>\n",
       "      <td>November 3, 2015</td>\n",
       "      <td>10</td>\n",
       "      <td>2015-11-03</td>\n",
       "    </tr>\n",
       "    <tr>\n",
       "      <th>4</th>\n",
       "      <td>Buprenorphine / naloxone</td>\n",
       "      <td>Opiate Dependence</td>\n",
       "      <td>Suboxone has completely turned my life around....</td>\n",
       "      <td>9.0</td>\n",
       "      <td>November 27, 2016</td>\n",
       "      <td>37</td>\n",
       "      <td>2016-11-27</td>\n",
       "    </tr>\n",
       "  </tbody>\n",
       "</table>\n",
       "</div>"
      ],
      "text/plain": [
       "                   drugName                     condition   \n",
       "0                 Valsartan  Left Ventricular Dysfunction  \\\n",
       "1                Guanfacine                          ADHD   \n",
       "2                    Lybrel                 Birth Control   \n",
       "3                Ortho Evra                 Birth Control   \n",
       "4  Buprenorphine / naloxone             Opiate Dependence   \n",
       "\n",
       "                                              review  rating   \n",
       "0  It has no side effect, I take it in combinatio...     9.0  \\\n",
       "1  My son is halfway through his fourth week of I...     8.0   \n",
       "2  I used to take another oral contraceptive, whi...     5.0   \n",
       "3  This is my first time using any form of birth ...     8.0   \n",
       "4  Suboxone has completely turned my life around....     9.0   \n",
       "\n",
       "                date  usefulCount  timestamp  \n",
       "0       May 20, 2012           27 2012-05-20  \n",
       "1     April 27, 2010          192 2010-04-27  \n",
       "2  December 14, 2009           17 2009-12-14  \n",
       "3   November 3, 2015           10 2015-11-03  \n",
       "4  November 27, 2016           37 2016-11-27  "
      ]
     },
     "execution_count": 11,
     "metadata": {},
     "output_type": "execute_result"
    }
   ],
   "source": [
    "df_train.head()"
   ]
  },
  {
   "cell_type": "code",
   "execution_count": 19,
   "metadata": {},
   "outputs": [],
   "source": [
    "df_train[\"processed_review\"] = df_train[\"review\"] + df_train[\"usefulCount\"].apply(lambda x: \" \" + str(x) + \" users found this comment helpful.\")\n",
    "df_test[\"processed_review\"] = df_test[\"review\"] + df_test[\"usefulCount\"].apply(lambda x: \" \" + str(x) + \" users found this comment helpful.\")"
   ]
  },
  {
   "cell_type": "code",
   "execution_count": 22,
   "metadata": {},
   "outputs": [],
   "source": [
    "df_train = df_train.drop(columns=\"review\")\n",
    "df_test = df_test.drop(columns=\"review\")"
   ]
  },
  {
   "cell_type": "code",
   "execution_count": 24,
   "metadata": {},
   "outputs": [],
   "source": [
    "# df_train.to_csv(\"DrugReviewAnalysis/drugsTrain_processed.csv\", sep=\"\\t\", index=False)\n",
    "# df_test.to_csv(\"DrugReviewAnalysis/drugsTest_processed.csv\", sep=\"\\t\", index=False)\n",
    "\n",
    "df_train.to_csv(\"Model3/drugsTrain_processed_for_Model_3.csv\", sep=\"\\t\", index=False)\n",
    "df_test.to_csv(\"Model3/drugsTest_processed_for_Model_3.csv\", sep=\"\\t\", index=False)"
   ]
  }
 ],
 "metadata": {
  "kernelspec": {
   "display_name": "Python 3.9.6 64-bit",
   "language": "python",
   "name": "python3"
  },
  "language_info": {
   "codemirror_mode": {
    "name": "ipython",
    "version": 3
   },
   "file_extension": ".py",
   "mimetype": "text/x-python",
   "name": "python",
   "nbconvert_exporter": "python",
   "pygments_lexer": "ipython3",
   "version": "3.9.6"
  },
  "orig_nbformat": 4,
  "vscode": {
   "interpreter": {
    "hash": "31f2aee4e71d21fbe5cf8b01ff0e069b9275f58929596ceb00d14d90e3e16cd6"
   }
  }
 },
 "nbformat": 4,
 "nbformat_minor": 2
}
