{
  "cells": [
    {
      "cell_type": "code",
      "execution_count": 3,
      "metadata": {},
      "outputs": [],
      "source": [
        "#!pip3 install datasets"
      ]
    },
    {
      "cell_type": "code",
      "execution_count": 2,
      "metadata": {},
      "outputs": [],
      "source": [
        "#!pip3 install transformers -U;"
      ]
    },
    {
      "cell_type": "code",
      "execution_count": 3,
      "metadata": {},
      "outputs": [],
      "source": [
        "#!pip3 install accelerate -U"
      ]
    },
    {
      "cell_type": "code",
      "execution_count": 3,
      "metadata": {
        "id": "LEojKM6_1QQ3"
      },
      "outputs": [
        {
          "name": "stdout",
          "output_type": "stream",
          "text": [
            "WARNING:tensorflow:From c:\\Users\\jason\\AppData\\Local\\Programs\\Python\\Python311\\Lib\\site-packages\\keras\\src\\losses.py:2976: The name tf.losses.sparse_softmax_cross_entropy is deprecated. Please use tf.compat.v1.losses.sparse_softmax_cross_entropy instead.\n",
            "\n"
          ]
        },
        {
          "name": "stderr",
          "output_type": "stream",
          "text": [
            "c:\\Users\\jason\\AppData\\Local\\Programs\\Python\\Python311\\Lib\\site-packages\\tqdm\\auto.py:21: TqdmWarning: IProgress not found. Please update jupyter and ipywidgets. See https://ipywidgets.readthedocs.io/en/stable/user_install.html\n",
            "  from .autonotebook import tqdm as notebook_tqdm\n"
          ]
        }
      ],
      "source": [
        "import numpy as np\n",
        "import pandas as pd\n",
        "import seaborn as sns\n",
        "\n",
        "from sklearn.metrics import classification_report\n",
        "from sklearn.model_selection import cross_validate\n",
        "from sklearn.metrics import mean_squared_error\n",
        "from sklearn.metrics import accuracy_score\n",
        "from sklearn.metrics import f1_score\n",
        "\n",
        "import matplotlib.pyplot as plt\n",
        "\n",
        "import torch\n",
        "import tensorflow as tf\n",
        "\n",
        "from sklearn.model_selection import train_test_split\n",
        "\n",
        "import datasets\n",
        "from datasets import Dataset, DatasetDict\n",
        "\n",
        "from transformers import AutoTokenizer\n",
        "from transformers import AutoModelForSequenceClassification\n",
        "from transformers import TrainingArguments\n",
        "from transformers import Trainer"
      ]
    },
    {
      "cell_type": "code",
      "execution_count": 5,
      "metadata": {
        "colab": {
          "base_uri": "https://localhost:8080/"
        },
        "id": "9pUnRk9I1QQ6",
        "outputId": "d148d40c-b4e9-4c27-a0ad-82022672efab"
      },
      "outputs": [],
      "source": [
        "# !git clone https://github.com/cse151a-DrugReviewAnalysis/DrugReviewAnalysis.git"
      ]
    },
    {
      "cell_type": "code",
      "execution_count": 4,
      "metadata": {
        "id": "q_fUxCxb1QQ6"
      },
      "outputs": [],
      "source": [
        "# Get dataset for working locally\n",
        "df_train = pd.read_csv(\"drugsTrain_processed_for_Model_3.csv\", sep=\"\\t\")\n",
        "df_test = pd.read_csv(\"drugsTest_processed_for_Model_3.csv\", sep=\"\\t\")"
      ]
    },
    {
      "cell_type": "code",
      "execution_count": 7,
      "metadata": {
        "id": "11BbgwaV1QQ7"
      },
      "outputs": [],
      "source": [
        "# Get dataset when working on colab\n",
        "# df_train = pd.read_csv(\"DrugReviewAnalysis/Model 3/drugsTrain_processed_for_Model_3.csv\", sep=\"\\t\")\n",
        "# df_test = pd.read_csv(\"DrugReviewAnalysis/Model 3/drugsTest_processed_for_Model_3.csv\", sep=\"\\t\")"
      ]
    },
    {
      "cell_type": "code",
      "execution_count": 5,
      "metadata": {},
      "outputs": [],
      "source": [
        "sample_size = 0.2"
      ]
    },
    {
      "cell_type": "code",
      "execution_count": 6,
      "metadata": {
        "id": "n7ttixB3TiIO"
      },
      "outputs": [],
      "source": [
        "df_train = df_train.sample(frac=sample_size, random_state=42).reset_index()\n",
        "df_test = df_test.sample(frac=sample_size, random_state=42).reset_index()"
      ]
    },
    {
      "cell_type": "code",
      "execution_count": 7,
      "metadata": {
        "colab": {
          "base_uri": "https://localhost:8080/"
        },
        "id": "9cv9s0B0qqAB",
        "outputId": "53f75be4-eb86-42df-985a-01c1bb6f8cf4"
      },
      "outputs": [
        {
          "data": {
            "text/plain": [
              "((31900, 8), (10640, 8))"
            ]
          },
          "execution_count": 7,
          "metadata": {},
          "output_type": "execute_result"
        }
      ],
      "source": [
        "df_train.shape, df_test.shape"
      ]
    },
    {
      "cell_type": "code",
      "execution_count": 8,
      "metadata": {
        "id": "qt7XkMDX6vrG"
      },
      "outputs": [],
      "source": [
        "df_val, df_test_new = train_test_split(df_test, test_size=0.6, random_state=42)"
      ]
    },
    {
      "cell_type": "code",
      "execution_count": 9,
      "metadata": {
        "id": "jflObYdjF_WX"
      },
      "outputs": [],
      "source": [
        "ds_train = Dataset.from_pandas(df_train[[\"processed_review\", \"rating\"]])\n",
        "ds_val = Dataset.from_pandas(df_val.reset_index()[[\"processed_review\", \"rating\"]])\n",
        "ds_test = Dataset.from_pandas(df_test_new.reset_index()[[\"processed_review\", \"rating\"]])"
      ]
    },
    {
      "cell_type": "code",
      "execution_count": 10,
      "metadata": {
        "id": "Cn-fjLLZGkmP"
      },
      "outputs": [],
      "source": [
        "ds = DatasetDict()\n",
        "\n",
        "ds[\"train\"] = ds_train\n",
        "ds[\"validation\"] = ds_val\n",
        "ds[\"test\"] = ds_test"
      ]
    },
    {
      "cell_type": "code",
      "execution_count": 14,
      "metadata": {
        "colab": {
          "base_uri": "https://localhost:8080/"
        },
        "id": "PPnmZrB0GxkW",
        "outputId": "46a19322-4f3a-4051-cd5d-c10408daad17"
      },
      "outputs": [
        {
          "data": {
            "text/plain": [
              "DatasetDict({\n",
              "    train: Dataset({\n",
              "        features: ['processed_review', 'rating'],\n",
              "        num_rows: 31900\n",
              "    })\n",
              "    validation: Dataset({\n",
              "        features: ['processed_review', 'rating'],\n",
              "        num_rows: 4256\n",
              "    })\n",
              "    test: Dataset({\n",
              "        features: ['processed_review', 'rating'],\n",
              "        num_rows: 6384\n",
              "    })\n",
              "})"
            ]
          },
          "execution_count": 14,
          "metadata": {},
          "output_type": "execute_result"
        }
      ],
      "source": [
        "ds"
      ]
    },
    {
      "cell_type": "code",
      "execution_count": 11,
      "metadata": {},
      "outputs": [
        {
          "data": {
            "text/plain": [
              "DatasetDict({\n",
              "    train: Dataset({\n",
              "        features: ['processed_review', 'rating'],\n",
              "        num_rows: 31900\n",
              "    })\n",
              "    validation: Dataset({\n",
              "        features: ['processed_review', 'rating'],\n",
              "        num_rows: 4256\n",
              "    })\n",
              "    test: Dataset({\n",
              "        features: ['processed_review', 'rating'],\n",
              "        num_rows: 6384\n",
              "    })\n",
              "})"
            ]
          },
          "execution_count": 11,
          "metadata": {},
          "output_type": "execute_result"
        }
      ],
      "source": [
        "# dataset including usefulCount a part of the review to compare against purely the reviews\n",
        "\n",
        "# local\n",
        "df_train_useful = pd.read_csv(\"drugsTrain_processed_with_usefulCount.csv\", sep=\"\\t\")\n",
        "df_test_useful = pd.read_csv(\"drugsTest_processed_with_usefulCount.csv\", sep=\"\\t\")\n",
        "\n",
        "#colab\n",
        "# df_train = pd.read_csv(\"DrugReviewAnalysis/drugsTrain_processed_for_Model_3.csv\", sep=\"\\t\")\n",
        "# df_test = pd.read_csv(\"DrugReviewAnalysis/drugsTest_processed_for_Model_3.csv\", sep=\"\\t\")\n",
        "\n",
        "df_train_useful = df_train_useful.sample(frac=sample_size, random_state=42).reset_index()\n",
        "df_test_useful = df_test_useful.sample(frac=sample_size, random_state=42).reset_index()\n",
        "\n",
        "df_val_useful, df_test_new_useful = train_test_split(df_test_useful, test_size=0.6, random_state=42)\n",
        "\n",
        "ds_train_useful = Dataset.from_pandas(df_train_useful[[\"processed_review\", \"rating\"]])\n",
        "ds_val_useful = Dataset.from_pandas(df_val_useful.reset_index()[[\"processed_review\", \"rating\"]])\n",
        "ds_test_useful = Dataset.from_pandas(df_test_new_useful.reset_index()[[\"processed_review\", \"rating\"]])\n",
        "\n",
        "ds_useful = DatasetDict()\n",
        "\n",
        "ds_useful[\"train\"] = ds_train_useful\n",
        "ds_useful[\"validation\"] = ds_val_useful\n",
        "ds_useful[\"test\"] = ds_test_useful\n",
        "\n",
        "ds_useful"
      ]
    },
    {
      "cell_type": "code",
      "execution_count": 12,
      "metadata": {},
      "outputs": [
        {
          "data": {
            "text/plain": [
              "DatasetDict({\n",
              "    train: Dataset({\n",
              "        features: ['processed_review', 'rating'],\n",
              "        num_rows: 31900\n",
              "    })\n",
              "    validation: Dataset({\n",
              "        features: ['processed_review', 'rating'],\n",
              "        num_rows: 4256\n",
              "    })\n",
              "    test: Dataset({\n",
              "        features: ['processed_review', 'rating'],\n",
              "        num_rows: 6384\n",
              "    })\n",
              "})"
            ]
          },
          "execution_count": 12,
          "metadata": {},
          "output_type": "execute_result"
        }
      ],
      "source": [
        "# dataset including preprocessing from original set of models\n",
        "\n",
        "# local\n",
        "df_train_prev = pd.read_csv(\"../drugsTrain_processed.csv\", sep=\"\\t\")\n",
        "df_test_prev = pd.read_csv(\"../drugsTest_processed.csv\", sep=\"\\t\")\n",
        "\n",
        "# colab\n",
        "# df_train = pd.read_csv(\"DrugReviewAnalysis/drugsTrain_processed.csv\", sep=\"\\t\")\n",
        "# df_test = pd.read_csv(\"DrugReviewAnalysis/drugsTest_processed.csv\", sep=\"\\t\")\n",
        "\n",
        "df_train_prev = df_train_prev.sample(frac=sample_size, random_state=42).reset_index()\n",
        "df_test_prev = df_test_prev.sample(frac=sample_size, random_state=42).reset_index()\n",
        "\n",
        "df_val_prev, df_test_new_prev = train_test_split(df_test_prev, test_size=0.6, random_state=42)\n",
        "\n",
        "ds_train_prev = Dataset.from_pandas(df_train_prev[[\"processed_review\", \"rating\"]])\n",
        "df_val_prev = Dataset.from_pandas(df_val_prev.reset_index()[[\"processed_review\", \"rating\"]])\n",
        "df_test_new_prev = Dataset.from_pandas(df_test_new_prev.reset_index()[[\"processed_review\", \"rating\"]])\n",
        "\n",
        "ds_prev = DatasetDict()\n",
        "\n",
        "ds_prev[\"train\"] = ds_train_prev\n",
        "ds_prev[\"validation\"] = df_val_prev\n",
        "ds_prev[\"test\"] = df_test_new_prev\n",
        "\n",
        "ds_prev"
      ]
    },
    {
      "cell_type": "code",
      "execution_count": 13,
      "metadata": {},
      "outputs": [
        {
          "data": {
            "text/plain": [
              "({'processed_review': 'Brought daily migraine headaches down to 1-4 a month',\n",
              "  'rating': 9.0},\n",
              " {'processed_review': ' brought daily migraine headache 14 month ',\n",
              "  'rating': 9.0},\n",
              " {'processed_review': 'Brought daily migraine headaches down to 1-4 a month 18 users found this comment helpful.',\n",
              "  'rating': 9.0})"
            ]
          },
          "execution_count": 13,
          "metadata": {},
          "output_type": "execute_result"
        }
      ],
      "source": [
        "ds[\"test\"][0], ds_prev[\"test\"][0], ds_useful[\"test\"][0]"
      ]
    },
    {
      "cell_type": "code",
      "execution_count": 14,
      "metadata": {
        "colab": {
          "base_uri": "https://localhost:8080/"
        },
        "id": "XniOEfUygxub",
        "outputId": "e83ae8b1-61a5-4d80-f824-e3be4b9f1ce3"
      },
      "outputs": [],
      "source": [
        "tokenizer = AutoTokenizer.from_pretrained(\"bert-base-uncased\")"
      ]
    },
    {
      "cell_type": "code",
      "execution_count": 15,
      "metadata": {
        "id": "LCZrgKt8HxoZ"
      },
      "outputs": [],
      "source": [
        "def preprocess(samples):\n",
        "  text = samples[\"processed_review\"]\n",
        "  encoding = tokenizer(text, padding=\"max_length\", truncation=True, max_length=128, return_attention_mask=True)\n",
        "  encoding[\"labels\"] = samples[\"rating\"]\n",
        "  return encoding"
      ]
    },
    {
      "cell_type": "markdown",
      "metadata": {},
      "source": [
        "### Predicting with usefulCount wrapped into the review"
      ]
    },
    {
      "cell_type": "code",
      "execution_count": 16,
      "metadata": {
        "colab": {
          "base_uri": "https://localhost:8080/",
          "height": 113,
          "referenced_widgets": [
            "a26e6952b58b4186b63029020bdf3d36",
            "aeea8a49f56348f8b2a227d43fe7c4ee",
            "634ed335742a4697b66f9089c255e26e",
            "551e305c425444a1b967b31e55f12a8f",
            "531d36b892c645cf83f87ecb55d7d210",
            "0cee2753b02d4c7cb160192e5f658860",
            "cf456295d398488b9337247e7ff6590c",
            "c48f55d79eef42eeb0ffe6b20707d49c",
            "3797acf78244495db3301dbf3ac0fb03",
            "c2c635dfdce949b39579f375bfca5b6d",
            "446fa1a6d7fb407da9f3bdbb5969fcf3",
            "7785751a18734e6f83679ea7c74798f0",
            "c21d410014944bdb883729ff43407960",
            "7540dc0409ca4b5090e00cc1dcc5c238",
            "23c879bb52d844bbaec396663ea632ee",
            "8e3e9abad12d4aa09c92811e65783339",
            "9cb67a27639844b5a897cd47b2854186",
            "c111663097ff41799c43d3de462b9c59",
            "bd1ea91833bc4c009b24a61a6e186013",
            "837a3d6ef3844aac9f30d8b46cb05a4b",
            "36ea93140e20426c80e0d2d5f00744ce",
            "6af741f237474471b04604ea7fb6abea",
            "c3a36bb9213740538333b7c118a78c5d",
            "e46507eb9c104d5abe941fe934115235",
            "aeabb732aa9841729e4bf2b2c55dc71b",
            "53ec3da773fe49bf8b1357d99c7a7595",
            "a4b982fe71be44f89bb18eb8060a570c",
            "56d87b78d9fa447b9ad38febf254d461",
            "ce1889791b5b43c39782a02207db1c98",
            "a7e0f0c5ff164d1b85a2c0ff119554cc",
            "4580bcc82ac843e59c6b06e26fdaccbd",
            "70628bc837704ddb8f947e6523d4b359",
            "6d1ec46d841541a69c08c30185598c2b"
          ]
        },
        "id": "U_dVTIa1ISK8",
        "outputId": "f155c587-427c-4766-cfd9-a88138fce1f0"
      },
      "outputs": [
        {
          "name": "stderr",
          "output_type": "stream",
          "text": [
            "Map: 100%|██████████| 31900/31900 [00:03<00:00, 9433.47 examples/s]\n",
            "Map: 100%|██████████| 4256/4256 [00:00<00:00, 6527.63 examples/s]\n",
            "Map: 100%|██████████| 6384/6384 [00:00<00:00, 9327.82 examples/s] \n"
          ]
        }
      ],
      "source": [
        "encoded_dataset = ds_useful.map(preprocess, batched=True, remove_columns=ds_useful[\"train\"].column_names)"
      ]
    },
    {
      "cell_type": "code",
      "execution_count": 17,
      "metadata": {
        "id": "hME0qO_ZJyTi"
      },
      "outputs": [],
      "source": [
        "encoded_dataset.set_format(\"torch\")"
      ]
    },
    {
      "cell_type": "code",
      "execution_count": 18,
      "metadata": {
        "colab": {
          "base_uri": "https://localhost:8080/"
        },
        "id": "jRvzuJPEnK7O",
        "outputId": "70a3a960-2833-49a1-bfef-617e86e5ba22"
      },
      "outputs": [
        {
          "name": "stderr",
          "output_type": "stream",
          "text": [
            "Some weights of BertForSequenceClassification were not initialized from the model checkpoint at bert-base-uncased and are newly initialized: ['classifier.bias', 'classifier.weight']\n",
            "You should probably TRAIN this model on a down-stream task to be able to use it for predictions and inference.\n"
          ]
        }
      ],
      "source": [
        "model = AutoModelForSequenceClassification.from_pretrained(\"bert-base-uncased\", num_labels=1)"
      ]
    },
    {
      "cell_type": "code",
      "execution_count": 20,
      "metadata": {
        "id": "aJQnSr87nqLk"
      },
      "outputs": [],
      "source": [
        "\n",
        "args = TrainingArguments(\n",
        "    output_dir=\"comparison/bert-compare-with-usefulCount\",\n",
        "    # output_dir = \"DrugReviewAnalysis/Model 3/comparison/bert-compare-with-usefulCount\", # for colab\n",
        "    evaluation_strategy=\"epoch\",\n",
        "    save_strategy=\"epoch\",\n",
        "    learning_rate=2e-5,\n",
        "    per_device_train_batch_size=64,\n",
        "    per_device_eval_batch_size=64,\n",
        "    num_train_epochs=5,\n",
        "    weight_decay=0.01,\n",
        "    load_best_model_at_end=True,\n",
        "    metric_for_best_model=\"loss\",\n",
        ")"
      ]
    },
    {
      "cell_type": "code",
      "execution_count": 19,
      "metadata": {
        "id": "9xPZMCcSLE8X"
      },
      "outputs": [],
      "source": [
        "def compute_metrics(eval_pred):\n",
        "  predictions, labels = eval_pred\n",
        "  mse = mean_squared_error(labels, predictions)\n",
        "  pred_modified = np.where(predictions < 10.0, np.round(predictions), 10.0)\n",
        "  print(labels)\n",
        "  acc = accuracy_score(labels, pred_modified)\n",
        "  f1 = f1_score(labels, pred_modified, average=\"macro\")\n",
        "  return {\"mse\": mse, \"accuracy-approximation\": acc, \"f1-approximation\": f1}"
      ]
    },
    {
      "cell_type": "code",
      "execution_count": 23,
      "metadata": {
        "colab": {
          "base_uri": "https://localhost:8080/",
          "height": 216
        },
        "id": "M1MrEwqELhQU",
        "outputId": "440e8cbf-2dca-4d97-8c48-d15c3d35c668"
      },
      "outputs": [
        {
          "name": "stderr",
          "output_type": "stream",
          "text": [
            "c:\\Users\\jason\\AppData\\Local\\Programs\\Python\\Python311\\Lib\\site-packages\\accelerate\\accelerator.py:432: FutureWarning: Passing the following arguments to `Accelerator` is deprecated and will be removed in version 1.0 of Accelerate: dict_keys(['dispatch_batches', 'split_batches', 'even_batches', 'use_seedable_sampler']). Please pass an `accelerate.DataLoaderConfiguration` instead: \n",
            "dataloader_config = DataLoaderConfiguration(dispatch_batches=None, split_batches=False, even_batches=True, use_seedable_sampler=True)\n",
            "  warnings.warn(\n"
          ]
        }
      ],
      "source": [
        "trainer = Trainer(\n",
        "    model=model,\n",
        "    args=args,\n",
        "    train_dataset=encoded_dataset[\"train\"],\n",
        "    eval_dataset=encoded_dataset[\"validation\"],\n",
        "    tokenizer=tokenizer,\n",
        "    compute_metrics=compute_metrics\n",
        ")"
      ]
    },
    {
      "cell_type": "code",
      "execution_count": 24,
      "metadata": {
        "colab": {
          "base_uri": "https://localhost:8080/",
          "height": 268
        },
        "id": "YLschwr7LyDU",
        "outputId": "40ae2beb-43b7-44f8-b639-408c5ef7f5f4"
      },
      "outputs": [
        {
          "name": "stderr",
          "output_type": "stream",
          "text": [
            " 20%|██        | 499/2495 [02:59<09:33,  3.48it/s]"
          ]
        },
        {
          "name": "stdout",
          "output_type": "stream",
          "text": [
            "[ 9.  1.  7. ... 10. 10.  1.]\n"
          ]
        },
        {
          "name": "stderr",
          "output_type": "stream",
          "text": [
            "                                                  \n",
            " 20%|██        | 499/2495 [03:08<09:33,  3.48it/s]Checkpoint destination directory comparison/bert-compare-with-usefulCount\\checkpoint-499 already exists and is non-empty. Saving will proceed but saved results may be invalid.\n"
          ]
        },
        {
          "name": "stdout",
          "output_type": "stream",
          "text": [
            "{'eval_loss': 3.6881163120269775, 'eval_mse': 3.6881163120269775, 'eval_accuracy-approximation': 0.3317669172932331, 'eval_f1-approximation': 0.22899504508656926, 'eval_runtime': 8.049, 'eval_samples_per_second': 528.763, 'eval_steps_per_second': 8.324, 'epoch': 1.0}\n"
          ]
        },
        {
          "name": "stderr",
          "output_type": "stream",
          "text": [
            " 20%|██        | 500/2495 [03:11<1:58:24,  3.56s/it]"
          ]
        },
        {
          "name": "stdout",
          "output_type": "stream",
          "text": [
            "{'loss': 7.3863, 'grad_norm': 77.19256591796875, 'learning_rate': 1.5991983967935874e-05, 'epoch': 1.0}\n"
          ]
        },
        {
          "name": "stderr",
          "output_type": "stream",
          "text": [
            " 40%|████      | 998/2495 [06:12<08:01,  3.11it/s]  "
          ]
        },
        {
          "name": "stdout",
          "output_type": "stream",
          "text": [
            "[ 9.  1.  7. ... 10. 10.  1.]\n"
          ]
        },
        {
          "name": "stderr",
          "output_type": "stream",
          "text": [
            "                                                  \n",
            " 40%|████      | 998/2495 [06:21<08:01,  3.11it/s]Checkpoint destination directory comparison/bert-compare-with-usefulCount\\checkpoint-998 already exists and is non-empty. Saving will proceed but saved results may be invalid.\n"
          ]
        },
        {
          "name": "stdout",
          "output_type": "stream",
          "text": [
            "{'eval_loss': 3.46212100982666, 'eval_mse': 3.4621212482452393, 'eval_accuracy-approximation': 0.3717105263157895, 'eval_f1-approximation': 0.24210922837658386, 'eval_runtime': 9.1672, 'eval_samples_per_second': 464.265, 'eval_steps_per_second': 7.309, 'epoch': 2.0}\n"
          ]
        },
        {
          "name": "stderr",
          "output_type": "stream",
          "text": [
            " 40%|████      | 1000/2495 [06:25<1:12:21,  2.90s/it]"
          ]
        },
        {
          "name": "stdout",
          "output_type": "stream",
          "text": [
            "{'loss': 3.0433, 'grad_norm': 24.15764045715332, 'learning_rate': 1.1983967935871745e-05, 'epoch': 2.0}\n"
          ]
        },
        {
          "name": "stderr",
          "output_type": "stream",
          "text": [
            "                                                     \n",
            " 60%|██████    | 1497/2495 [09:43<05:18,  3.13it/s]Checkpoint destination directory comparison/bert-compare-with-usefulCount\\checkpoint-1497 already exists and is non-empty. Saving will proceed but saved results may be invalid.\n"
          ]
        },
        {
          "name": "stdout",
          "output_type": "stream",
          "text": [
            "[ 9.  1.  7. ... 10. 10.  1.]\n",
            "{'eval_loss': 3.35109543800354, 'eval_mse': 3.351095676422119, 'eval_accuracy-approximation': 0.3881578947368421, 'eval_f1-approximation': 0.27139033289153447, 'eval_runtime': 9.1061, 'eval_samples_per_second': 467.378, 'eval_steps_per_second': 7.358, 'epoch': 3.0}\n"
          ]
        },
        {
          "name": "stderr",
          "output_type": "stream",
          "text": [
            " 60%|██████    | 1500/2495 [09:47<34:27,  2.08s/it]  "
          ]
        },
        {
          "name": "stdout",
          "output_type": "stream",
          "text": [
            "{'loss': 2.1751, 'grad_norm': 33.4163818359375, 'learning_rate': 7.975951903807616e-06, 'epoch': 3.01}\n"
          ]
        },
        {
          "name": "stderr",
          "output_type": "stream",
          "text": [
            " 80%|████████  | 1996/2495 [12:55<02:39,  3.13it/s]"
          ]
        },
        {
          "name": "stdout",
          "output_type": "stream",
          "text": [
            "[ 9.  1.  7. ... 10. 10.  1.]\n"
          ]
        },
        {
          "name": "stderr",
          "output_type": "stream",
          "text": [
            "                                                   \n",
            " 80%|████████  | 1996/2495 [13:05<02:39,  3.13it/s]Checkpoint destination directory comparison/bert-compare-with-usefulCount\\checkpoint-1996 already exists and is non-empty. Saving will proceed but saved results may be invalid.\n"
          ]
        },
        {
          "name": "stdout",
          "output_type": "stream",
          "text": [
            "{'eval_loss': 3.218914270401001, 'eval_mse': 3.218914270401001, 'eval_accuracy-approximation': 0.3881578947368421, 'eval_f1-approximation': 0.27804047500657275, 'eval_runtime': 9.1158, 'eval_samples_per_second': 466.884, 'eval_steps_per_second': 7.35, 'epoch': 4.0}\n"
          ]
        },
        {
          "name": "stderr",
          "output_type": "stream",
          "text": [
            " 80%|████████  | 2000/2495 [13:09<13:46,  1.67s/it]"
          ]
        },
        {
          "name": "stdout",
          "output_type": "stream",
          "text": [
            "{'loss': 1.6707, 'grad_norm': 28.911714553833008, 'learning_rate': 3.967935871743487e-06, 'epoch': 4.01}\n"
          ]
        },
        {
          "name": "stderr",
          "output_type": "stream",
          "text": [
            "100%|██████████| 2495/2495 [16:19<00:00,  3.13it/s]"
          ]
        },
        {
          "name": "stdout",
          "output_type": "stream",
          "text": [
            "[ 9.  1.  7. ... 10. 10.  1.]\n"
          ]
        },
        {
          "name": "stderr",
          "output_type": "stream",
          "text": [
            "                                                   \n",
            "100%|██████████| 2495/2495 [16:29<00:00,  3.13it/s]Checkpoint destination directory comparison/bert-compare-with-usefulCount\\checkpoint-2495 already exists and is non-empty. Saving will proceed but saved results may be invalid.\n"
          ]
        },
        {
          "name": "stdout",
          "output_type": "stream",
          "text": [
            "{'eval_loss': 3.2742223739624023, 'eval_mse': 3.2742223739624023, 'eval_accuracy-approximation': 0.4043703007518797, 'eval_f1-approximation': 0.2772368650866167, 'eval_runtime': 9.1659, 'eval_samples_per_second': 464.331, 'eval_steps_per_second': 7.31, 'epoch': 5.0}\n"
          ]
        },
        {
          "name": "stderr",
          "output_type": "stream",
          "text": [
            "100%|██████████| 2495/2495 [16:32<00:00,  2.51it/s]"
          ]
        },
        {
          "name": "stdout",
          "output_type": "stream",
          "text": [
            "{'train_runtime': 992.5743, 'train_samples_per_second': 160.693, 'train_steps_per_second': 2.514, 'train_loss': 3.135062532291145, 'epoch': 5.0}\n"
          ]
        },
        {
          "name": "stderr",
          "output_type": "stream",
          "text": [
            "\n"
          ]
        },
        {
          "data": {
            "text/plain": [
              "TrainOutput(global_step=2495, training_loss=3.135062532291145, metrics={'train_runtime': 992.5743, 'train_samples_per_second': 160.693, 'train_steps_per_second': 2.514, 'train_loss': 3.135062532291145, 'epoch': 5.0})"
            ]
          },
          "execution_count": 24,
          "metadata": {},
          "output_type": "execute_result"
        }
      ],
      "source": [
        "trainer.train()"
      ]
    },
    {
      "cell_type": "code",
      "execution_count": 25,
      "metadata": {
        "colab": {
          "base_uri": "https://localhost:8080/",
          "height": 144
        },
        "id": "5wzZ4aHWxItY",
        "outputId": "14f0372e-e90f-44c7-bc0b-f71bf6271590"
      },
      "outputs": [
        {
          "name": "stderr",
          "output_type": "stream",
          "text": [
            "100%|██████████| 67/67 [00:09<00:00,  6.83it/s]"
          ]
        },
        {
          "name": "stdout",
          "output_type": "stream",
          "text": [
            "[ 9.  1.  7. ... 10. 10.  1.]\n"
          ]
        },
        {
          "name": "stderr",
          "output_type": "stream",
          "text": [
            "\n"
          ]
        },
        {
          "data": {
            "text/plain": [
              "{'eval_loss': 3.218914270401001,\n",
              " 'eval_mse': 3.218914270401001,\n",
              " 'eval_accuracy-approximation': 0.3881578947368421,\n",
              " 'eval_f1-approximation': 0.27804047500657275,\n",
              " 'eval_runtime': 10.0718,\n",
              " 'eval_samples_per_second': 422.564,\n",
              " 'eval_steps_per_second': 6.652,\n",
              " 'epoch': 5.0}"
            ]
          },
          "execution_count": 25,
          "metadata": {},
          "output_type": "execute_result"
        }
      ],
      "source": [
        "trainer.evaluate()"
      ]
    },
    {
      "cell_type": "code",
      "execution_count": 26,
      "metadata": {
        "id": "0Iigi0XYtV3q"
      },
      "outputs": [],
      "source": [
        "trainer.save_model(\"./bert-regression\")"
      ]
    },
    {
      "cell_type": "code",
      "execution_count": null,
      "metadata": {},
      "outputs": [],
      "source": [
        "# model = AutoModelForSequenceClassification.from_pretrained(\"./bert-regression/\")\n",
        "\n",
        "# trainer = Trainer(\n",
        "#     model=model,\n",
        "#     args=args,\n",
        "#     train_dataset=encoded_dataset[\"train\"],\n",
        "#     eval_dataset=encoded_dataset[\"validation\"],\n",
        "#     tokenizer=tokenizer,\n",
        "#     compute_metrics=compute_metrics\n",
        "# )"
      ]
    },
    {
      "cell_type": "code",
      "execution_count": 27,
      "metadata": {
        "id": "_SNryXKAEuox"
      },
      "outputs": [
        {
          "name": "stderr",
          "output_type": "stream",
          "text": [
            "100%|██████████| 100/100 [00:14<00:00,  6.71it/s]"
          ]
        },
        {
          "name": "stdout",
          "output_type": "stream",
          "text": [
            "[ 9. 10. 10. ...  9.  5.  2.]\n"
          ]
        },
        {
          "name": "stderr",
          "output_type": "stream",
          "text": [
            "\n"
          ]
        },
        {
          "data": {
            "text/plain": [
              "{'eval_loss': 3.3146562576293945,\n",
              " 'eval_mse': 3.3146562576293945,\n",
              " 'eval_accuracy-approximation': 0.37875939849624063,\n",
              " 'eval_f1-approximation': 0.27207007061246635,\n",
              " 'eval_runtime': 15.0594,\n",
              " 'eval_samples_per_second': 423.921,\n",
              " 'eval_steps_per_second': 6.64,\n",
              " 'epoch': 5.0}"
            ]
          },
          "execution_count": 27,
          "metadata": {},
          "output_type": "execute_result"
        }
      ],
      "source": [
        "trainer.evaluate(eval_dataset=encoded_dataset[\"test\"])"
      ]
    },
    {
      "cell_type": "markdown",
      "metadata": {},
      "source": [
        "### Predicting with just the reviews"
      ]
    },
    {
      "cell_type": "code",
      "execution_count": 28,
      "metadata": {},
      "outputs": [
        {
          "name": "stderr",
          "output_type": "stream",
          "text": [
            "Map: 100%|██████████| 31900/31900 [00:03<00:00, 9368.96 examples/s] \n",
            "Map: 100%|██████████| 4256/4256 [00:00<00:00, 9374.40 examples/s] \n",
            "Map: 100%|██████████| 6384/6384 [00:00<00:00, 9990.57 examples/s] \n"
          ]
        }
      ],
      "source": [
        "encoded_dataset2 = ds.map(preprocess, batched=True, remove_columns=ds[\"train\"].column_names)"
      ]
    },
    {
      "cell_type": "code",
      "execution_count": 29,
      "metadata": {},
      "outputs": [],
      "source": [
        "encoded_dataset2.set_format(\"torch\")"
      ]
    },
    {
      "cell_type": "code",
      "execution_count": 30,
      "metadata": {},
      "outputs": [
        {
          "name": "stderr",
          "output_type": "stream",
          "text": [
            "Some weights of BertForSequenceClassification were not initialized from the model checkpoint at bert-base-uncased and are newly initialized: ['classifier.bias', 'classifier.weight']\n",
            "You should probably TRAIN this model on a down-stream task to be able to use it for predictions and inference.\n"
          ]
        }
      ],
      "source": [
        "model2 = AutoModelForSequenceClassification.from_pretrained(\"bert-base-uncased\", num_labels=1)"
      ]
    },
    {
      "cell_type": "code",
      "execution_count": 31,
      "metadata": {},
      "outputs": [],
      "source": [
        "args2 = TrainingArguments(\n",
        "    output_dir=\"comparison/bert-compare-no-usefulCount\", #for local\n",
        "    # output_dir = \"DrugReviewAnalysis/Model 3/comparison/bert-no-usefulCount\", # for colab\n",
        "    evaluation_strategy=\"epoch\",\n",
        "    save_strategy=\"epoch\",\n",
        "    learning_rate=2e-5,\n",
        "    per_device_train_batch_size=64,\n",
        "    per_device_eval_batch_size=64,\n",
        "    num_train_epochs=5,\n",
        "    weight_decay=0.01,\n",
        "    load_best_model_at_end=True,\n",
        "    metric_for_best_model=\"loss\",\n",
        ")"
      ]
    },
    {
      "cell_type": "code",
      "execution_count": 32,
      "metadata": {},
      "outputs": [
        {
          "name": "stderr",
          "output_type": "stream",
          "text": [
            "c:\\Users\\jason\\AppData\\Local\\Programs\\Python\\Python311\\Lib\\site-packages\\accelerate\\accelerator.py:432: FutureWarning: Passing the following arguments to `Accelerator` is deprecated and will be removed in version 1.0 of Accelerate: dict_keys(['dispatch_batches', 'split_batches', 'even_batches', 'use_seedable_sampler']). Please pass an `accelerate.DataLoaderConfiguration` instead: \n",
            "dataloader_config = DataLoaderConfiguration(dispatch_batches=None, split_batches=False, even_batches=True, use_seedable_sampler=True)\n",
            "  warnings.warn(\n"
          ]
        }
      ],
      "source": [
        "trainer2 = Trainer(\n",
        "    model=model2,\n",
        "    args=args2,\n",
        "    train_dataset=encoded_dataset2[\"train\"],\n",
        "    eval_dataset=encoded_dataset2[\"validation\"],\n",
        "    tokenizer=tokenizer,\n",
        "    compute_metrics=compute_metrics\n",
        ")"
      ]
    },
    {
      "cell_type": "code",
      "execution_count": 33,
      "metadata": {},
      "outputs": [
        {
          "name": "stderr",
          "output_type": "stream",
          "text": [
            " 20%|██        | 499/2495 [03:08<10:23,  3.20it/s]"
          ]
        },
        {
          "name": "stdout",
          "output_type": "stream",
          "text": [
            "[ 9.  1.  7. ... 10. 10.  1.]\n"
          ]
        },
        {
          "name": "stderr",
          "output_type": "stream",
          "text": [
            "\n",
            " 20%|██        | 499/2495 [03:17<10:23,  3.20it/s]Checkpoint destination directory comparison/bert-compare-no-usefulCount\\checkpoint-499 already exists and is non-empty. Saving will proceed but saved results may be invalid.\n"
          ]
        },
        {
          "name": "stdout",
          "output_type": "stream",
          "text": [
            "{'eval_loss': 3.7776994705200195, 'eval_mse': 3.7776992321014404, 'eval_accuracy-approximation': 0.29652255639097747, 'eval_f1-approximation': 0.22485919911791336, 'eval_runtime': 8.9183, 'eval_samples_per_second': 477.22, 'eval_steps_per_second': 7.513, 'epoch': 1.0}\n"
          ]
        },
        {
          "name": "stderr",
          "output_type": "stream",
          "text": [
            " 20%|██        | 500/2495 [03:20<2:13:15,  4.01s/it]"
          ]
        },
        {
          "name": "stdout",
          "output_type": "stream",
          "text": [
            "{'loss': 7.8737, 'grad_norm': 59.767459869384766, 'learning_rate': 1.5991983967935874e-05, 'epoch': 1.0}\n"
          ]
        },
        {
          "name": "stderr",
          "output_type": "stream",
          "text": [
            " 40%|████      | 998/2495 [06:25<07:48,  3.20it/s]  "
          ]
        },
        {
          "name": "stdout",
          "output_type": "stream",
          "text": [
            "[ 9.  1.  7. ... 10. 10.  1.]\n"
          ]
        },
        {
          "name": "stderr",
          "output_type": "stream",
          "text": [
            "\n",
            " 40%|████      | 998/2495 [06:35<07:48,  3.20it/s]Checkpoint destination directory comparison/bert-compare-no-usefulCount\\checkpoint-998 already exists and is non-empty. Saving will proceed but saved results may be invalid.\n"
          ]
        },
        {
          "name": "stdout",
          "output_type": "stream",
          "text": [
            "{'eval_loss': 3.550009250640869, 'eval_mse': 3.550009250640869, 'eval_accuracy-approximation': 0.3693609022556391, 'eval_f1-approximation': 0.24822161151121427, 'eval_runtime': 8.9696, 'eval_samples_per_second': 474.493, 'eval_steps_per_second': 7.47, 'epoch': 2.0}\n"
          ]
        },
        {
          "name": "stderr",
          "output_type": "stream",
          "text": [
            " 40%|████      | 1000/2495 [06:44<1:38:41,  3.96s/it]"
          ]
        },
        {
          "name": "stdout",
          "output_type": "stream",
          "text": [
            "{'loss': 3.1541, 'grad_norm': 22.32584571838379, 'learning_rate': 1.1983967935871745e-05, 'epoch': 2.0}\n"
          ]
        },
        {
          "name": "stderr",
          "output_type": "stream",
          "text": [
            " 60%|██████    | 1497/2495 [09:49<05:09,  3.22it/s]  "
          ]
        },
        {
          "name": "stdout",
          "output_type": "stream",
          "text": [
            "[ 9.  1.  7. ... 10. 10.  1.]\n"
          ]
        },
        {
          "name": "stderr",
          "output_type": "stream",
          "text": [
            "\n",
            " 60%|██████    | 1497/2495 [09:58<05:09,  3.22it/s]Checkpoint destination directory comparison/bert-compare-no-usefulCount\\checkpoint-1497 already exists and is non-empty. Saving will proceed but saved results may be invalid.\n"
          ]
        },
        {
          "name": "stdout",
          "output_type": "stream",
          "text": [
            "{'eval_loss': 3.3958699703216553, 'eval_mse': 3.3958699703216553, 'eval_accuracy-approximation': 0.39027255639097747, 'eval_f1-approximation': 0.2646864659011867, 'eval_runtime': 8.9097, 'eval_samples_per_second': 477.682, 'eval_steps_per_second': 7.52, 'epoch': 3.0}\n"
          ]
        },
        {
          "name": "stderr",
          "output_type": "stream",
          "text": [
            " 60%|██████    | 1500/2495 [10:02<36:13,  2.18s/it]  "
          ]
        },
        {
          "name": "stdout",
          "output_type": "stream",
          "text": [
            "{'loss': 2.2421, 'grad_norm': 25.235130310058594, 'learning_rate': 7.975951903807616e-06, 'epoch': 3.01}\n"
          ]
        },
        {
          "name": "stderr",
          "output_type": "stream",
          "text": [
            " 80%|████████  | 1996/2495 [13:07<02:35,  3.21it/s]"
          ]
        },
        {
          "name": "stdout",
          "output_type": "stream",
          "text": [
            "[ 9.  1.  7. ... 10. 10.  1.]\n"
          ]
        },
        {
          "name": "stderr",
          "output_type": "stream",
          "text": [
            "\n",
            " 80%|████████  | 1996/2495 [13:16<02:35,  3.21it/s]Checkpoint destination directory comparison/bert-compare-no-usefulCount\\checkpoint-1996 already exists and is non-empty. Saving will proceed but saved results may be invalid.\n"
          ]
        },
        {
          "name": "stdout",
          "output_type": "stream",
          "text": [
            "{'eval_loss': 3.255185842514038, 'eval_mse': 3.255185842514038, 'eval_accuracy-approximation': 0.3832236842105263, 'eval_f1-approximation': 0.26817406328422794, 'eval_runtime': 8.9395, 'eval_samples_per_second': 476.089, 'eval_steps_per_second': 7.495, 'epoch': 4.0}\n"
          ]
        },
        {
          "name": "stderr",
          "output_type": "stream",
          "text": [
            " 80%|████████  | 2000/2495 [13:20<13:18,  1.61s/it]"
          ]
        },
        {
          "name": "stdout",
          "output_type": "stream",
          "text": [
            "{'loss': 1.726, 'grad_norm': 40.28692626953125, 'learning_rate': 3.967935871743487e-06, 'epoch': 4.01}\n"
          ]
        },
        {
          "name": "stderr",
          "output_type": "stream",
          "text": [
            "100%|██████████| 2495/2495 [16:24<00:00,  3.22it/s]"
          ]
        },
        {
          "name": "stdout",
          "output_type": "stream",
          "text": [
            "[ 9.  1.  7. ... 10. 10.  1.]\n"
          ]
        },
        {
          "name": "stderr",
          "output_type": "stream",
          "text": [
            "\n",
            "100%|██████████| 2495/2495 [16:33<00:00,  3.22it/s]Checkpoint destination directory comparison/bert-compare-no-usefulCount\\checkpoint-2495 already exists and is non-empty. Saving will proceed but saved results may be invalid.\n"
          ]
        },
        {
          "name": "stdout",
          "output_type": "stream",
          "text": [
            "{'eval_loss': 3.307123899459839, 'eval_mse': 3.307123899459839, 'eval_accuracy-approximation': 0.4041353383458647, 'eval_f1-approximation': 0.27595722680479773, 'eval_runtime': 8.8977, 'eval_samples_per_second': 478.325, 'eval_steps_per_second': 7.53, 'epoch': 5.0}\n"
          ]
        },
        {
          "name": "stderr",
          "output_type": "stream",
          "text": [
            "100%|██████████| 2495/2495 [16:36<00:00,  2.50it/s]"
          ]
        },
        {
          "name": "stdout",
          "output_type": "stream",
          "text": [
            "{'train_runtime': 996.7492, 'train_samples_per_second': 160.02, 'train_steps_per_second': 2.503, 'train_loss': 3.291582848313815, 'epoch': 5.0}\n"
          ]
        },
        {
          "name": "stderr",
          "output_type": "stream",
          "text": [
            "\n"
          ]
        },
        {
          "data": {
            "text/plain": [
              "TrainOutput(global_step=2495, training_loss=3.291582848313815, metrics={'train_runtime': 996.7492, 'train_samples_per_second': 160.02, 'train_steps_per_second': 2.503, 'train_loss': 3.291582848313815, 'epoch': 5.0})"
            ]
          },
          "execution_count": 33,
          "metadata": {},
          "output_type": "execute_result"
        }
      ],
      "source": [
        "trainer2.train()"
      ]
    },
    {
      "cell_type": "code",
      "execution_count": 34,
      "metadata": {},
      "outputs": [
        {
          "name": "stderr",
          "output_type": "stream",
          "text": [
            "100%|██████████| 67/67 [00:09<00:00,  6.79it/s]"
          ]
        },
        {
          "name": "stdout",
          "output_type": "stream",
          "text": [
            "[ 9.  1.  7. ... 10. 10.  1.]\n"
          ]
        },
        {
          "name": "stderr",
          "output_type": "stream",
          "text": [
            "\n"
          ]
        },
        {
          "data": {
            "text/plain": [
              "{'eval_loss': 3.255185842514038,\n",
              " 'eval_mse': 3.255185842514038,\n",
              " 'eval_accuracy-approximation': 0.3832236842105263,\n",
              " 'eval_f1-approximation': 0.26817406328422794,\n",
              " 'eval_runtime': 10.0088,\n",
              " 'eval_samples_per_second': 425.226,\n",
              " 'eval_steps_per_second': 6.694,\n",
              " 'epoch': 5.0}"
            ]
          },
          "execution_count": 34,
          "metadata": {},
          "output_type": "execute_result"
        }
      ],
      "source": [
        "trainer2.evaluate()"
      ]
    },
    {
      "cell_type": "code",
      "execution_count": 35,
      "metadata": {},
      "outputs": [
        {
          "name": "stderr",
          "output_type": "stream",
          "text": [
            "100%|██████████| 100/100 [00:14<00:00,  7.09it/s]"
          ]
        },
        {
          "name": "stdout",
          "output_type": "stream",
          "text": [
            "[ 9. 10. 10. ...  9.  5.  2.]\n"
          ]
        },
        {
          "name": "stderr",
          "output_type": "stream",
          "text": [
            "\n"
          ]
        },
        {
          "data": {
            "text/plain": [
              "{'eval_loss': 3.425740957260132,\n",
              " 'eval_mse': 3.425740957260132,\n",
              " 'eval_accuracy-approximation': 0.37202380952380953,\n",
              " 'eval_f1-approximation': 0.2603080149088942,\n",
              " 'eval_runtime': 14.2575,\n",
              " 'eval_samples_per_second': 447.766,\n",
              " 'eval_steps_per_second': 7.014,\n",
              " 'epoch': 5.0}"
            ]
          },
          "execution_count": 35,
          "metadata": {},
          "output_type": "execute_result"
        }
      ],
      "source": [
        "trainer2.evaluate(eval_dataset=encoded_dataset2[\"test\"])"
      ]
    },
    {
      "cell_type": "markdown",
      "metadata": {},
      "source": [
        "### Predicting with old preprocessing method"
      ]
    },
    {
      "cell_type": "code",
      "execution_count": 20,
      "metadata": {},
      "outputs": [
        {
          "name": "stderr",
          "output_type": "stream",
          "text": [
            "Map: 100%|██████████| 31900/31900 [00:02<00:00, 11063.81 examples/s]\n",
            "Map: 100%|██████████| 4256/4256 [00:00<00:00, 12229.82 examples/s]\n",
            "Map: 100%|██████████| 6384/6384 [00:00<00:00, 12206.43 examples/s]\n"
          ]
        }
      ],
      "source": [
        "encoded_dataset3 = ds_prev.map(preprocess, batched=True, remove_columns=ds_prev[\"train\"].column_names)"
      ]
    },
    {
      "cell_type": "code",
      "execution_count": 21,
      "metadata": {},
      "outputs": [],
      "source": [
        "encoded_dataset3.set_format(\"torch\")"
      ]
    },
    {
      "cell_type": "code",
      "execution_count": 22,
      "metadata": {},
      "outputs": [
        {
          "name": "stderr",
          "output_type": "stream",
          "text": [
            "Some weights of BertForSequenceClassification were not initialized from the model checkpoint at bert-base-uncased and are newly initialized: ['classifier.bias', 'classifier.weight']\n",
            "You should probably TRAIN this model on a down-stream task to be able to use it for predictions and inference.\n"
          ]
        }
      ],
      "source": [
        "model3 = AutoModelForSequenceClassification.from_pretrained(\"bert-base-uncased\", num_labels=1)"
      ]
    },
    {
      "cell_type": "code",
      "execution_count": 24,
      "metadata": {},
      "outputs": [],
      "source": [
        "args3 = TrainingArguments(\n",
        "    output_dir=\"comparison/bert-regression-old-preprocessing\", # for local\n",
        "    # output_dir = \"DrugReviewAnalysis/Model 3/comparison/bert-regression-old-preprocessing\", # for colab\n",
        "    evaluation_strategy=\"epoch\",\n",
        "    save_strategy=\"epoch\",\n",
        "    learning_rate=2e-5,\n",
        "    per_device_train_batch_size=64,\n",
        "    per_device_eval_batch_size=64,\n",
        "    num_train_epochs=5,\n",
        "    weight_decay=0.01,\n",
        "    load_best_model_at_end=True,\n",
        "    metric_for_best_model=\"loss\",\n",
        ")"
      ]
    },
    {
      "cell_type": "code",
      "execution_count": 25,
      "metadata": {},
      "outputs": [
        {
          "name": "stderr",
          "output_type": "stream",
          "text": [
            "c:\\Users\\jason\\AppData\\Local\\Programs\\Python\\Python311\\Lib\\site-packages\\accelerate\\accelerator.py:432: FutureWarning: Passing the following arguments to `Accelerator` is deprecated and will be removed in version 1.0 of Accelerate: dict_keys(['dispatch_batches', 'split_batches', 'even_batches', 'use_seedable_sampler']). Please pass an `accelerate.DataLoaderConfiguration` instead: \n",
            "dataloader_config = DataLoaderConfiguration(dispatch_batches=None, split_batches=False, even_batches=True, use_seedable_sampler=True)\n",
            "  warnings.warn(\n"
          ]
        }
      ],
      "source": [
        "trainer3 = Trainer(\n",
        "    model=model3,\n",
        "    args=args3,\n",
        "    train_dataset=encoded_dataset3[\"train\"],\n",
        "    eval_dataset=encoded_dataset3[\"validation\"],\n",
        "    tokenizer=tokenizer,\n",
        "    compute_metrics=compute_metrics\n",
        ")"
      ]
    },
    {
      "cell_type": "code",
      "execution_count": 26,
      "metadata": {},
      "outputs": [
        {
          "name": "stderr",
          "output_type": "stream",
          "text": [
            " 20%|██        | 499/2495 [02:47<09:21,  3.55it/s]"
          ]
        },
        {
          "name": "stdout",
          "output_type": "stream",
          "text": [
            "[ 9.  1.  7. ... 10. 10.  1.]\n"
          ]
        },
        {
          "name": "stderr",
          "output_type": "stream",
          "text": [
            "                                                  \n",
            " 20%|██        | 499/2495 [02:56<09:21,  3.55it/s]"
          ]
        },
        {
          "name": "stdout",
          "output_type": "stream",
          "text": [
            "{'eval_loss': 5.171387672424316, 'eval_mse': 5.171388149261475, 'eval_accuracy-approximation': 0.18186090225563908, 'eval_f1-approximation': 0.14509035140217943, 'eval_runtime': 8.0538, 'eval_samples_per_second': 528.445, 'eval_steps_per_second': 8.319, 'epoch': 1.0}\n"
          ]
        },
        {
          "name": "stderr",
          "output_type": "stream",
          "text": [
            " 20%|██        | 500/2495 [02:59<1:59:19,  3.59s/it]"
          ]
        },
        {
          "name": "stdout",
          "output_type": "stream",
          "text": [
            "{'loss': 9.2498, 'grad_norm': 66.50765991210938, 'learning_rate': 1.5991983967935874e-05, 'epoch': 1.0}\n"
          ]
        },
        {
          "name": "stderr",
          "output_type": "stream",
          "text": [
            " 40%|████      | 998/2495 [05:44<07:01,  3.55it/s]  "
          ]
        },
        {
          "name": "stdout",
          "output_type": "stream",
          "text": [
            "[ 9.  1.  7. ... 10. 10.  1.]\n"
          ]
        },
        {
          "name": "stderr",
          "output_type": "stream",
          "text": [
            "                                                  \n",
            " 40%|████      | 998/2495 [05:53<07:01,  3.55it/s]"
          ]
        },
        {
          "name": "stdout",
          "output_type": "stream",
          "text": [
            "{'eval_loss': 4.687226295471191, 'eval_mse': 4.687226295471191, 'eval_accuracy-approximation': 0.2793703007518797, 'eval_f1-approximation': 0.1988889931706918, 'eval_runtime': 8.0563, 'eval_samples_per_second': 528.28, 'eval_steps_per_second': 8.316, 'epoch': 2.0}\n"
          ]
        },
        {
          "name": "stderr",
          "output_type": "stream",
          "text": [
            " 40%|████      | 1000/2495 [05:56<1:05:28,  2.63s/it]"
          ]
        },
        {
          "name": "stdout",
          "output_type": "stream",
          "text": [
            "{'loss': 4.5881, 'grad_norm': 62.662906646728516, 'learning_rate': 1.1983967935871745e-05, 'epoch': 2.0}\n"
          ]
        },
        {
          "name": "stderr",
          "output_type": "stream",
          "text": [
            " 60%|██████    | 1497/2495 [08:42<04:41,  3.55it/s]  "
          ]
        },
        {
          "name": "stdout",
          "output_type": "stream",
          "text": [
            "[ 9.  1.  7. ... 10. 10.  1.]\n"
          ]
        },
        {
          "name": "stderr",
          "output_type": "stream",
          "text": [
            "                                                   \n",
            " 60%|██████    | 1497/2495 [08:50<04:41,  3.55it/s]"
          ]
        },
        {
          "name": "stdout",
          "output_type": "stream",
          "text": [
            "{'eval_loss': 4.7231340408325195, 'eval_mse': 4.723134517669678, 'eval_accuracy-approximation': 0.32377819548872183, 'eval_f1-approximation': 0.22223727353343134, 'eval_runtime': 8.0507, 'eval_samples_per_second': 528.647, 'eval_steps_per_second': 8.322, 'epoch': 3.0}\n"
          ]
        },
        {
          "name": "stderr",
          "output_type": "stream",
          "text": [
            " 60%|██████    | 1500/2495 [08:53<31:38,  1.91s/it]"
          ]
        },
        {
          "name": "stdout",
          "output_type": "stream",
          "text": [
            "{'loss': 3.3897, 'grad_norm': 66.24119567871094, 'learning_rate': 7.975951903807616e-06, 'epoch': 3.01}\n"
          ]
        },
        {
          "name": "stderr",
          "output_type": "stream",
          "text": [
            " 80%|████████  | 1996/2495 [11:39<02:20,  3.56it/s]"
          ]
        },
        {
          "name": "stdout",
          "output_type": "stream",
          "text": [
            "[ 9.  1.  7. ... 10. 10.  1.]\n"
          ]
        },
        {
          "name": "stderr",
          "output_type": "stream",
          "text": [
            "                                                   \n",
            " 80%|████████  | 1996/2495 [11:47<02:20,  3.56it/s]"
          ]
        },
        {
          "name": "stdout",
          "output_type": "stream",
          "text": [
            "{'eval_loss': 4.640283584594727, 'eval_mse': 4.640283584594727, 'eval_accuracy-approximation': 0.3230733082706767, 'eval_f1-approximation': 0.2297983605231786, 'eval_runtime': 8.052, 'eval_samples_per_second': 528.566, 'eval_steps_per_second': 8.321, 'epoch': 4.0}\n"
          ]
        },
        {
          "name": "stderr",
          "output_type": "stream",
          "text": [
            " 80%|████████  | 2000/2495 [11:51<11:47,  1.43s/it]"
          ]
        },
        {
          "name": "stdout",
          "output_type": "stream",
          "text": [
            "{'loss': 2.6128, 'grad_norm': 66.18108367919922, 'learning_rate': 3.967935871743487e-06, 'epoch': 4.01}\n"
          ]
        },
        {
          "name": "stderr",
          "output_type": "stream",
          "text": [
            "100%|██████████| 2495/2495 [14:35<00:00,  3.55it/s]"
          ]
        },
        {
          "name": "stdout",
          "output_type": "stream",
          "text": [
            "[ 9.  1.  7. ... 10. 10.  1.]\n"
          ]
        },
        {
          "name": "stderr",
          "output_type": "stream",
          "text": [
            "                                                   \n",
            "100%|██████████| 2495/2495 [14:44<00:00,  3.55it/s]"
          ]
        },
        {
          "name": "stdout",
          "output_type": "stream",
          "text": [
            "{'eval_loss': 4.722833156585693, 'eval_mse': 4.722833633422852, 'eval_accuracy-approximation': 0.3369360902255639, 'eval_f1-approximation': 0.23200962959331348, 'eval_runtime': 8.043, 'eval_samples_per_second': 529.159, 'eval_steps_per_second': 8.33, 'epoch': 5.0}\n"
          ]
        },
        {
          "name": "stderr",
          "output_type": "stream",
          "text": [
            "100%|██████████| 2495/2495 [14:47<00:00,  2.81it/s]"
          ]
        },
        {
          "name": "stdout",
          "output_type": "stream",
          "text": [
            "{'train_runtime': 887.4876, 'train_samples_per_second': 179.721, 'train_steps_per_second': 2.811, 'train_loss': 4.410465021840556, 'epoch': 5.0}\n"
          ]
        },
        {
          "name": "stderr",
          "output_type": "stream",
          "text": [
            "\n"
          ]
        },
        {
          "data": {
            "text/plain": [
              "TrainOutput(global_step=2495, training_loss=4.410465021840556, metrics={'train_runtime': 887.4876, 'train_samples_per_second': 179.721, 'train_steps_per_second': 2.811, 'train_loss': 4.410465021840556, 'epoch': 5.0})"
            ]
          },
          "execution_count": 26,
          "metadata": {},
          "output_type": "execute_result"
        }
      ],
      "source": [
        "trainer3.train()"
      ]
    },
    {
      "cell_type": "code",
      "execution_count": 27,
      "metadata": {},
      "outputs": [
        {
          "name": "stderr",
          "output_type": "stream",
          "text": [
            "100%|██████████| 67/67 [00:07<00:00,  8.53it/s]"
          ]
        },
        {
          "name": "stdout",
          "output_type": "stream",
          "text": [
            "[ 9.  1.  7. ... 10. 10.  1.]\n"
          ]
        },
        {
          "name": "stderr",
          "output_type": "stream",
          "text": [
            "\n"
          ]
        },
        {
          "data": {
            "text/plain": [
              "{'eval_loss': 4.640283584594727,\n",
              " 'eval_mse': 4.640283584594727,\n",
              " 'eval_accuracy-approximation': 0.3230733082706767,\n",
              " 'eval_f1-approximation': 0.2297983605231786,\n",
              " 'eval_runtime': 8.112,\n",
              " 'eval_samples_per_second': 524.652,\n",
              " 'eval_steps_per_second': 8.259,\n",
              " 'epoch': 5.0}"
            ]
          },
          "execution_count": 27,
          "metadata": {},
          "output_type": "execute_result"
        }
      ],
      "source": [
        "trainer3.evaluate()"
      ]
    },
    {
      "cell_type": "code",
      "execution_count": 28,
      "metadata": {},
      "outputs": [
        {
          "name": "stderr",
          "output_type": "stream",
          "text": [
            "100%|██████████| 100/100 [00:11<00:00,  8.42it/s]"
          ]
        },
        {
          "name": "stdout",
          "output_type": "stream",
          "text": [
            "[ 9. 10. 10. ...  9.  5.  2.]\n"
          ]
        },
        {
          "name": "stderr",
          "output_type": "stream",
          "text": [
            "\n"
          ]
        },
        {
          "data": {
            "text/plain": [
              "{'eval_loss': 4.751387596130371,\n",
              " 'eval_mse': 4.751387596130371,\n",
              " 'eval_accuracy-approximation': 0.32879072681704263,\n",
              " 'eval_f1-approximation': 0.2348171766226938,\n",
              " 'eval_runtime': 11.9718,\n",
              " 'eval_samples_per_second': 533.253,\n",
              " 'eval_steps_per_second': 8.353,\n",
              " 'epoch': 5.0}"
            ]
          },
          "execution_count": 28,
          "metadata": {},
          "output_type": "execute_result"
        }
      ],
      "source": [
        "trainer3.evaluate(eval_dataset=encoded_dataset3[\"test\"])"
      ]
    }
  ],
  "metadata": {
    "accelerator": "GPU",
    "colab": {
      "gpuType": "T4",
      "provenance": []
    },
    "kernelspec": {
      "display_name": "Python 3",
      "name": "python3"
    },
    "language_info": {
      "codemirror_mode": {
        "name": "ipython",
        "version": 3
      },
      "file_extension": ".py",
      "mimetype": "text/x-python",
      "name": "python",
      "nbconvert_exporter": "python",
      "pygments_lexer": "ipython3",
      "version": "3.11.0"
    },
    "orig_nbformat": 4,
    "vscode": {
      "interpreter": {
        "hash": "31f2aee4e71d21fbe5cf8b01ff0e069b9275f58929596ceb00d14d90e3e16cd6"
      }
    },
    "widgets": {
      "application/vnd.jupyter.widget-state+json": {
        "0cee2753b02d4c7cb160192e5f658860": {
          "model_module": "@jupyter-widgets/base",
          "model_module_version": "1.2.0",
          "model_name": "LayoutModel",
          "state": {
            "_model_module": "@jupyter-widgets/base",
            "_model_module_version": "1.2.0",
            "_model_name": "LayoutModel",
            "_view_count": null,
            "_view_module": "@jupyter-widgets/base",
            "_view_module_version": "1.2.0",
            "_view_name": "LayoutView",
            "align_content": null,
            "align_items": null,
            "align_self": null,
            "border": null,
            "bottom": null,
            "display": null,
            "flex": null,
            "flex_flow": null,
            "grid_area": null,
            "grid_auto_columns": null,
            "grid_auto_flow": null,
            "grid_auto_rows": null,
            "grid_column": null,
            "grid_gap": null,
            "grid_row": null,
            "grid_template_areas": null,
            "grid_template_columns": null,
            "grid_template_rows": null,
            "height": null,
            "justify_content": null,
            "justify_items": null,
            "left": null,
            "margin": null,
            "max_height": null,
            "max_width": null,
            "min_height": null,
            "min_width": null,
            "object_fit": null,
            "object_position": null,
            "order": null,
            "overflow": null,
            "overflow_x": null,
            "overflow_y": null,
            "padding": null,
            "right": null,
            "top": null,
            "visibility": null,
            "width": null
          }
        },
        "23c879bb52d844bbaec396663ea632ee": {
          "model_module": "@jupyter-widgets/controls",
          "model_module_version": "1.5.0",
          "model_name": "HTMLModel",
          "state": {
            "_dom_classes": [],
            "_model_module": "@jupyter-widgets/controls",
            "_model_module_version": "1.5.0",
            "_model_name": "HTMLModel",
            "_view_count": null,
            "_view_module": "@jupyter-widgets/controls",
            "_view_module_version": "1.5.0",
            "_view_name": "HTMLView",
            "description": "",
            "description_tooltip": null,
            "layout": "IPY_MODEL_36ea93140e20426c80e0d2d5f00744ce",
            "placeholder": "​",
            "style": "IPY_MODEL_6af741f237474471b04604ea7fb6abea",
            "value": " 2128/2128 [00:00&lt;00:00, 3965.89 examples/s]"
          }
        },
        "36ea93140e20426c80e0d2d5f00744ce": {
          "model_module": "@jupyter-widgets/base",
          "model_module_version": "1.2.0",
          "model_name": "LayoutModel",
          "state": {
            "_model_module": "@jupyter-widgets/base",
            "_model_module_version": "1.2.0",
            "_model_name": "LayoutModel",
            "_view_count": null,
            "_view_module": "@jupyter-widgets/base",
            "_view_module_version": "1.2.0",
            "_view_name": "LayoutView",
            "align_content": null,
            "align_items": null,
            "align_self": null,
            "border": null,
            "bottom": null,
            "display": null,
            "flex": null,
            "flex_flow": null,
            "grid_area": null,
            "grid_auto_columns": null,
            "grid_auto_flow": null,
            "grid_auto_rows": null,
            "grid_column": null,
            "grid_gap": null,
            "grid_row": null,
            "grid_template_areas": null,
            "grid_template_columns": null,
            "grid_template_rows": null,
            "height": null,
            "justify_content": null,
            "justify_items": null,
            "left": null,
            "margin": null,
            "max_height": null,
            "max_width": null,
            "min_height": null,
            "min_width": null,
            "object_fit": null,
            "object_position": null,
            "order": null,
            "overflow": null,
            "overflow_x": null,
            "overflow_y": null,
            "padding": null,
            "right": null,
            "top": null,
            "visibility": null,
            "width": null
          }
        },
        "3797acf78244495db3301dbf3ac0fb03": {
          "model_module": "@jupyter-widgets/controls",
          "model_module_version": "1.5.0",
          "model_name": "ProgressStyleModel",
          "state": {
            "_model_module": "@jupyter-widgets/controls",
            "_model_module_version": "1.5.0",
            "_model_name": "ProgressStyleModel",
            "_view_count": null,
            "_view_module": "@jupyter-widgets/base",
            "_view_module_version": "1.2.0",
            "_view_name": "StyleView",
            "bar_color": null,
            "description_width": ""
          }
        },
        "446fa1a6d7fb407da9f3bdbb5969fcf3": {
          "model_module": "@jupyter-widgets/controls",
          "model_module_version": "1.5.0",
          "model_name": "DescriptionStyleModel",
          "state": {
            "_model_module": "@jupyter-widgets/controls",
            "_model_module_version": "1.5.0",
            "_model_name": "DescriptionStyleModel",
            "_view_count": null,
            "_view_module": "@jupyter-widgets/base",
            "_view_module_version": "1.2.0",
            "_view_name": "StyleView",
            "description_width": ""
          }
        },
        "4580bcc82ac843e59c6b06e26fdaccbd": {
          "model_module": "@jupyter-widgets/controls",
          "model_module_version": "1.5.0",
          "model_name": "ProgressStyleModel",
          "state": {
            "_model_module": "@jupyter-widgets/controls",
            "_model_module_version": "1.5.0",
            "_model_name": "ProgressStyleModel",
            "_view_count": null,
            "_view_module": "@jupyter-widgets/base",
            "_view_module_version": "1.2.0",
            "_view_name": "StyleView",
            "bar_color": null,
            "description_width": ""
          }
        },
        "531d36b892c645cf83f87ecb55d7d210": {
          "model_module": "@jupyter-widgets/base",
          "model_module_version": "1.2.0",
          "model_name": "LayoutModel",
          "state": {
            "_model_module": "@jupyter-widgets/base",
            "_model_module_version": "1.2.0",
            "_model_name": "LayoutModel",
            "_view_count": null,
            "_view_module": "@jupyter-widgets/base",
            "_view_module_version": "1.2.0",
            "_view_name": "LayoutView",
            "align_content": null,
            "align_items": null,
            "align_self": null,
            "border": null,
            "bottom": null,
            "display": null,
            "flex": null,
            "flex_flow": null,
            "grid_area": null,
            "grid_auto_columns": null,
            "grid_auto_flow": null,
            "grid_auto_rows": null,
            "grid_column": null,
            "grid_gap": null,
            "grid_row": null,
            "grid_template_areas": null,
            "grid_template_columns": null,
            "grid_template_rows": null,
            "height": null,
            "justify_content": null,
            "justify_items": null,
            "left": null,
            "margin": null,
            "max_height": null,
            "max_width": null,
            "min_height": null,
            "min_width": null,
            "object_fit": null,
            "object_position": null,
            "order": null,
            "overflow": null,
            "overflow_x": null,
            "overflow_y": null,
            "padding": null,
            "right": null,
            "top": null,
            "visibility": null,
            "width": null
          }
        },
        "53ec3da773fe49bf8b1357d99c7a7595": {
          "model_module": "@jupyter-widgets/controls",
          "model_module_version": "1.5.0",
          "model_name": "HTMLModel",
          "state": {
            "_dom_classes": [],
            "_model_module": "@jupyter-widgets/controls",
            "_model_module_version": "1.5.0",
            "_model_name": "HTMLModel",
            "_view_count": null,
            "_view_module": "@jupyter-widgets/controls",
            "_view_module_version": "1.5.0",
            "_view_name": "HTMLView",
            "description": "",
            "description_tooltip": null,
            "layout": "IPY_MODEL_70628bc837704ddb8f947e6523d4b359",
            "placeholder": "​",
            "style": "IPY_MODEL_6d1ec46d841541a69c08c30185598c2b",
            "value": " 3192/3192 [00:00&lt;00:00, 4234.22 examples/s]"
          }
        },
        "551e305c425444a1b967b31e55f12a8f": {
          "model_module": "@jupyter-widgets/controls",
          "model_module_version": "1.5.0",
          "model_name": "HTMLModel",
          "state": {
            "_dom_classes": [],
            "_model_module": "@jupyter-widgets/controls",
            "_model_module_version": "1.5.0",
            "_model_name": "HTMLModel",
            "_view_count": null,
            "_view_module": "@jupyter-widgets/controls",
            "_view_module_version": "1.5.0",
            "_view_name": "HTMLView",
            "description": "",
            "description_tooltip": null,
            "layout": "IPY_MODEL_c2c635dfdce949b39579f375bfca5b6d",
            "placeholder": "​",
            "style": "IPY_MODEL_446fa1a6d7fb407da9f3bdbb5969fcf3",
            "value": " 15950/15950 [00:03&lt;00:00, 4078.20 examples/s]"
          }
        },
        "56d87b78d9fa447b9ad38febf254d461": {
          "model_module": "@jupyter-widgets/base",
          "model_module_version": "1.2.0",
          "model_name": "LayoutModel",
          "state": {
            "_model_module": "@jupyter-widgets/base",
            "_model_module_version": "1.2.0",
            "_model_name": "LayoutModel",
            "_view_count": null,
            "_view_module": "@jupyter-widgets/base",
            "_view_module_version": "1.2.0",
            "_view_name": "LayoutView",
            "align_content": null,
            "align_items": null,
            "align_self": null,
            "border": null,
            "bottom": null,
            "display": null,
            "flex": null,
            "flex_flow": null,
            "grid_area": null,
            "grid_auto_columns": null,
            "grid_auto_flow": null,
            "grid_auto_rows": null,
            "grid_column": null,
            "grid_gap": null,
            "grid_row": null,
            "grid_template_areas": null,
            "grid_template_columns": null,
            "grid_template_rows": null,
            "height": null,
            "justify_content": null,
            "justify_items": null,
            "left": null,
            "margin": null,
            "max_height": null,
            "max_width": null,
            "min_height": null,
            "min_width": null,
            "object_fit": null,
            "object_position": null,
            "order": null,
            "overflow": null,
            "overflow_x": null,
            "overflow_y": null,
            "padding": null,
            "right": null,
            "top": null,
            "visibility": null,
            "width": null
          }
        },
        "634ed335742a4697b66f9089c255e26e": {
          "model_module": "@jupyter-widgets/controls",
          "model_module_version": "1.5.0",
          "model_name": "FloatProgressModel",
          "state": {
            "_dom_classes": [],
            "_model_module": "@jupyter-widgets/controls",
            "_model_module_version": "1.5.0",
            "_model_name": "FloatProgressModel",
            "_view_count": null,
            "_view_module": "@jupyter-widgets/controls",
            "_view_module_version": "1.5.0",
            "_view_name": "ProgressView",
            "bar_style": "success",
            "description": "",
            "description_tooltip": null,
            "layout": "IPY_MODEL_c48f55d79eef42eeb0ffe6b20707d49c",
            "max": 15950,
            "min": 0,
            "orientation": "horizontal",
            "style": "IPY_MODEL_3797acf78244495db3301dbf3ac0fb03",
            "value": 15950
          }
        },
        "6af741f237474471b04604ea7fb6abea": {
          "model_module": "@jupyter-widgets/controls",
          "model_module_version": "1.5.0",
          "model_name": "DescriptionStyleModel",
          "state": {
            "_model_module": "@jupyter-widgets/controls",
            "_model_module_version": "1.5.0",
            "_model_name": "DescriptionStyleModel",
            "_view_count": null,
            "_view_module": "@jupyter-widgets/base",
            "_view_module_version": "1.2.0",
            "_view_name": "StyleView",
            "description_width": ""
          }
        },
        "6d1ec46d841541a69c08c30185598c2b": {
          "model_module": "@jupyter-widgets/controls",
          "model_module_version": "1.5.0",
          "model_name": "DescriptionStyleModel",
          "state": {
            "_model_module": "@jupyter-widgets/controls",
            "_model_module_version": "1.5.0",
            "_model_name": "DescriptionStyleModel",
            "_view_count": null,
            "_view_module": "@jupyter-widgets/base",
            "_view_module_version": "1.2.0",
            "_view_name": "StyleView",
            "description_width": ""
          }
        },
        "70628bc837704ddb8f947e6523d4b359": {
          "model_module": "@jupyter-widgets/base",
          "model_module_version": "1.2.0",
          "model_name": "LayoutModel",
          "state": {
            "_model_module": "@jupyter-widgets/base",
            "_model_module_version": "1.2.0",
            "_model_name": "LayoutModel",
            "_view_count": null,
            "_view_module": "@jupyter-widgets/base",
            "_view_module_version": "1.2.0",
            "_view_name": "LayoutView",
            "align_content": null,
            "align_items": null,
            "align_self": null,
            "border": null,
            "bottom": null,
            "display": null,
            "flex": null,
            "flex_flow": null,
            "grid_area": null,
            "grid_auto_columns": null,
            "grid_auto_flow": null,
            "grid_auto_rows": null,
            "grid_column": null,
            "grid_gap": null,
            "grid_row": null,
            "grid_template_areas": null,
            "grid_template_columns": null,
            "grid_template_rows": null,
            "height": null,
            "justify_content": null,
            "justify_items": null,
            "left": null,
            "margin": null,
            "max_height": null,
            "max_width": null,
            "min_height": null,
            "min_width": null,
            "object_fit": null,
            "object_position": null,
            "order": null,
            "overflow": null,
            "overflow_x": null,
            "overflow_y": null,
            "padding": null,
            "right": null,
            "top": null,
            "visibility": null,
            "width": null
          }
        },
        "7540dc0409ca4b5090e00cc1dcc5c238": {
          "model_module": "@jupyter-widgets/controls",
          "model_module_version": "1.5.0",
          "model_name": "FloatProgressModel",
          "state": {
            "_dom_classes": [],
            "_model_module": "@jupyter-widgets/controls",
            "_model_module_version": "1.5.0",
            "_model_name": "FloatProgressModel",
            "_view_count": null,
            "_view_module": "@jupyter-widgets/controls",
            "_view_module_version": "1.5.0",
            "_view_name": "ProgressView",
            "bar_style": "success",
            "description": "",
            "description_tooltip": null,
            "layout": "IPY_MODEL_bd1ea91833bc4c009b24a61a6e186013",
            "max": 2128,
            "min": 0,
            "orientation": "horizontal",
            "style": "IPY_MODEL_837a3d6ef3844aac9f30d8b46cb05a4b",
            "value": 2128
          }
        },
        "7785751a18734e6f83679ea7c74798f0": {
          "model_module": "@jupyter-widgets/controls",
          "model_module_version": "1.5.0",
          "model_name": "HBoxModel",
          "state": {
            "_dom_classes": [],
            "_model_module": "@jupyter-widgets/controls",
            "_model_module_version": "1.5.0",
            "_model_name": "HBoxModel",
            "_view_count": null,
            "_view_module": "@jupyter-widgets/controls",
            "_view_module_version": "1.5.0",
            "_view_name": "HBoxView",
            "box_style": "",
            "children": [
              "IPY_MODEL_c21d410014944bdb883729ff43407960",
              "IPY_MODEL_7540dc0409ca4b5090e00cc1dcc5c238",
              "IPY_MODEL_23c879bb52d844bbaec396663ea632ee"
            ],
            "layout": "IPY_MODEL_8e3e9abad12d4aa09c92811e65783339"
          }
        },
        "837a3d6ef3844aac9f30d8b46cb05a4b": {
          "model_module": "@jupyter-widgets/controls",
          "model_module_version": "1.5.0",
          "model_name": "ProgressStyleModel",
          "state": {
            "_model_module": "@jupyter-widgets/controls",
            "_model_module_version": "1.5.0",
            "_model_name": "ProgressStyleModel",
            "_view_count": null,
            "_view_module": "@jupyter-widgets/base",
            "_view_module_version": "1.2.0",
            "_view_name": "StyleView",
            "bar_color": null,
            "description_width": ""
          }
        },
        "8e3e9abad12d4aa09c92811e65783339": {
          "model_module": "@jupyter-widgets/base",
          "model_module_version": "1.2.0",
          "model_name": "LayoutModel",
          "state": {
            "_model_module": "@jupyter-widgets/base",
            "_model_module_version": "1.2.0",
            "_model_name": "LayoutModel",
            "_view_count": null,
            "_view_module": "@jupyter-widgets/base",
            "_view_module_version": "1.2.0",
            "_view_name": "LayoutView",
            "align_content": null,
            "align_items": null,
            "align_self": null,
            "border": null,
            "bottom": null,
            "display": null,
            "flex": null,
            "flex_flow": null,
            "grid_area": null,
            "grid_auto_columns": null,
            "grid_auto_flow": null,
            "grid_auto_rows": null,
            "grid_column": null,
            "grid_gap": null,
            "grid_row": null,
            "grid_template_areas": null,
            "grid_template_columns": null,
            "grid_template_rows": null,
            "height": null,
            "justify_content": null,
            "justify_items": null,
            "left": null,
            "margin": null,
            "max_height": null,
            "max_width": null,
            "min_height": null,
            "min_width": null,
            "object_fit": null,
            "object_position": null,
            "order": null,
            "overflow": null,
            "overflow_x": null,
            "overflow_y": null,
            "padding": null,
            "right": null,
            "top": null,
            "visibility": null,
            "width": null
          }
        },
        "9cb67a27639844b5a897cd47b2854186": {
          "model_module": "@jupyter-widgets/base",
          "model_module_version": "1.2.0",
          "model_name": "LayoutModel",
          "state": {
            "_model_module": "@jupyter-widgets/base",
            "_model_module_version": "1.2.0",
            "_model_name": "LayoutModel",
            "_view_count": null,
            "_view_module": "@jupyter-widgets/base",
            "_view_module_version": "1.2.0",
            "_view_name": "LayoutView",
            "align_content": null,
            "align_items": null,
            "align_self": null,
            "border": null,
            "bottom": null,
            "display": null,
            "flex": null,
            "flex_flow": null,
            "grid_area": null,
            "grid_auto_columns": null,
            "grid_auto_flow": null,
            "grid_auto_rows": null,
            "grid_column": null,
            "grid_gap": null,
            "grid_row": null,
            "grid_template_areas": null,
            "grid_template_columns": null,
            "grid_template_rows": null,
            "height": null,
            "justify_content": null,
            "justify_items": null,
            "left": null,
            "margin": null,
            "max_height": null,
            "max_width": null,
            "min_height": null,
            "min_width": null,
            "object_fit": null,
            "object_position": null,
            "order": null,
            "overflow": null,
            "overflow_x": null,
            "overflow_y": null,
            "padding": null,
            "right": null,
            "top": null,
            "visibility": null,
            "width": null
          }
        },
        "a26e6952b58b4186b63029020bdf3d36": {
          "model_module": "@jupyter-widgets/controls",
          "model_module_version": "1.5.0",
          "model_name": "HBoxModel",
          "state": {
            "_dom_classes": [],
            "_model_module": "@jupyter-widgets/controls",
            "_model_module_version": "1.5.0",
            "_model_name": "HBoxModel",
            "_view_count": null,
            "_view_module": "@jupyter-widgets/controls",
            "_view_module_version": "1.5.0",
            "_view_name": "HBoxView",
            "box_style": "",
            "children": [
              "IPY_MODEL_aeea8a49f56348f8b2a227d43fe7c4ee",
              "IPY_MODEL_634ed335742a4697b66f9089c255e26e",
              "IPY_MODEL_551e305c425444a1b967b31e55f12a8f"
            ],
            "layout": "IPY_MODEL_531d36b892c645cf83f87ecb55d7d210"
          }
        },
        "a4b982fe71be44f89bb18eb8060a570c": {
          "model_module": "@jupyter-widgets/base",
          "model_module_version": "1.2.0",
          "model_name": "LayoutModel",
          "state": {
            "_model_module": "@jupyter-widgets/base",
            "_model_module_version": "1.2.0",
            "_model_name": "LayoutModel",
            "_view_count": null,
            "_view_module": "@jupyter-widgets/base",
            "_view_module_version": "1.2.0",
            "_view_name": "LayoutView",
            "align_content": null,
            "align_items": null,
            "align_self": null,
            "border": null,
            "bottom": null,
            "display": null,
            "flex": null,
            "flex_flow": null,
            "grid_area": null,
            "grid_auto_columns": null,
            "grid_auto_flow": null,
            "grid_auto_rows": null,
            "grid_column": null,
            "grid_gap": null,
            "grid_row": null,
            "grid_template_areas": null,
            "grid_template_columns": null,
            "grid_template_rows": null,
            "height": null,
            "justify_content": null,
            "justify_items": null,
            "left": null,
            "margin": null,
            "max_height": null,
            "max_width": null,
            "min_height": null,
            "min_width": null,
            "object_fit": null,
            "object_position": null,
            "order": null,
            "overflow": null,
            "overflow_x": null,
            "overflow_y": null,
            "padding": null,
            "right": null,
            "top": null,
            "visibility": null,
            "width": null
          }
        },
        "a7e0f0c5ff164d1b85a2c0ff119554cc": {
          "model_module": "@jupyter-widgets/base",
          "model_module_version": "1.2.0",
          "model_name": "LayoutModel",
          "state": {
            "_model_module": "@jupyter-widgets/base",
            "_model_module_version": "1.2.0",
            "_model_name": "LayoutModel",
            "_view_count": null,
            "_view_module": "@jupyter-widgets/base",
            "_view_module_version": "1.2.0",
            "_view_name": "LayoutView",
            "align_content": null,
            "align_items": null,
            "align_self": null,
            "border": null,
            "bottom": null,
            "display": null,
            "flex": null,
            "flex_flow": null,
            "grid_area": null,
            "grid_auto_columns": null,
            "grid_auto_flow": null,
            "grid_auto_rows": null,
            "grid_column": null,
            "grid_gap": null,
            "grid_row": null,
            "grid_template_areas": null,
            "grid_template_columns": null,
            "grid_template_rows": null,
            "height": null,
            "justify_content": null,
            "justify_items": null,
            "left": null,
            "margin": null,
            "max_height": null,
            "max_width": null,
            "min_height": null,
            "min_width": null,
            "object_fit": null,
            "object_position": null,
            "order": null,
            "overflow": null,
            "overflow_x": null,
            "overflow_y": null,
            "padding": null,
            "right": null,
            "top": null,
            "visibility": null,
            "width": null
          }
        },
        "aeabb732aa9841729e4bf2b2c55dc71b": {
          "model_module": "@jupyter-widgets/controls",
          "model_module_version": "1.5.0",
          "model_name": "FloatProgressModel",
          "state": {
            "_dom_classes": [],
            "_model_module": "@jupyter-widgets/controls",
            "_model_module_version": "1.5.0",
            "_model_name": "FloatProgressModel",
            "_view_count": null,
            "_view_module": "@jupyter-widgets/controls",
            "_view_module_version": "1.5.0",
            "_view_name": "ProgressView",
            "bar_style": "success",
            "description": "",
            "description_tooltip": null,
            "layout": "IPY_MODEL_a7e0f0c5ff164d1b85a2c0ff119554cc",
            "max": 3192,
            "min": 0,
            "orientation": "horizontal",
            "style": "IPY_MODEL_4580bcc82ac843e59c6b06e26fdaccbd",
            "value": 3192
          }
        },
        "aeea8a49f56348f8b2a227d43fe7c4ee": {
          "model_module": "@jupyter-widgets/controls",
          "model_module_version": "1.5.0",
          "model_name": "HTMLModel",
          "state": {
            "_dom_classes": [],
            "_model_module": "@jupyter-widgets/controls",
            "_model_module_version": "1.5.0",
            "_model_name": "HTMLModel",
            "_view_count": null,
            "_view_module": "@jupyter-widgets/controls",
            "_view_module_version": "1.5.0",
            "_view_name": "HTMLView",
            "description": "",
            "description_tooltip": null,
            "layout": "IPY_MODEL_0cee2753b02d4c7cb160192e5f658860",
            "placeholder": "​",
            "style": "IPY_MODEL_cf456295d398488b9337247e7ff6590c",
            "value": "Map: 100%"
          }
        },
        "bd1ea91833bc4c009b24a61a6e186013": {
          "model_module": "@jupyter-widgets/base",
          "model_module_version": "1.2.0",
          "model_name": "LayoutModel",
          "state": {
            "_model_module": "@jupyter-widgets/base",
            "_model_module_version": "1.2.0",
            "_model_name": "LayoutModel",
            "_view_count": null,
            "_view_module": "@jupyter-widgets/base",
            "_view_module_version": "1.2.0",
            "_view_name": "LayoutView",
            "align_content": null,
            "align_items": null,
            "align_self": null,
            "border": null,
            "bottom": null,
            "display": null,
            "flex": null,
            "flex_flow": null,
            "grid_area": null,
            "grid_auto_columns": null,
            "grid_auto_flow": null,
            "grid_auto_rows": null,
            "grid_column": null,
            "grid_gap": null,
            "grid_row": null,
            "grid_template_areas": null,
            "grid_template_columns": null,
            "grid_template_rows": null,
            "height": null,
            "justify_content": null,
            "justify_items": null,
            "left": null,
            "margin": null,
            "max_height": null,
            "max_width": null,
            "min_height": null,
            "min_width": null,
            "object_fit": null,
            "object_position": null,
            "order": null,
            "overflow": null,
            "overflow_x": null,
            "overflow_y": null,
            "padding": null,
            "right": null,
            "top": null,
            "visibility": null,
            "width": null
          }
        },
        "c111663097ff41799c43d3de462b9c59": {
          "model_module": "@jupyter-widgets/controls",
          "model_module_version": "1.5.0",
          "model_name": "DescriptionStyleModel",
          "state": {
            "_model_module": "@jupyter-widgets/controls",
            "_model_module_version": "1.5.0",
            "_model_name": "DescriptionStyleModel",
            "_view_count": null,
            "_view_module": "@jupyter-widgets/base",
            "_view_module_version": "1.2.0",
            "_view_name": "StyleView",
            "description_width": ""
          }
        },
        "c21d410014944bdb883729ff43407960": {
          "model_module": "@jupyter-widgets/controls",
          "model_module_version": "1.5.0",
          "model_name": "HTMLModel",
          "state": {
            "_dom_classes": [],
            "_model_module": "@jupyter-widgets/controls",
            "_model_module_version": "1.5.0",
            "_model_name": "HTMLModel",
            "_view_count": null,
            "_view_module": "@jupyter-widgets/controls",
            "_view_module_version": "1.5.0",
            "_view_name": "HTMLView",
            "description": "",
            "description_tooltip": null,
            "layout": "IPY_MODEL_9cb67a27639844b5a897cd47b2854186",
            "placeholder": "​",
            "style": "IPY_MODEL_c111663097ff41799c43d3de462b9c59",
            "value": "Map: 100%"
          }
        },
        "c2c635dfdce949b39579f375bfca5b6d": {
          "model_module": "@jupyter-widgets/base",
          "model_module_version": "1.2.0",
          "model_name": "LayoutModel",
          "state": {
            "_model_module": "@jupyter-widgets/base",
            "_model_module_version": "1.2.0",
            "_model_name": "LayoutModel",
            "_view_count": null,
            "_view_module": "@jupyter-widgets/base",
            "_view_module_version": "1.2.0",
            "_view_name": "LayoutView",
            "align_content": null,
            "align_items": null,
            "align_self": null,
            "border": null,
            "bottom": null,
            "display": null,
            "flex": null,
            "flex_flow": null,
            "grid_area": null,
            "grid_auto_columns": null,
            "grid_auto_flow": null,
            "grid_auto_rows": null,
            "grid_column": null,
            "grid_gap": null,
            "grid_row": null,
            "grid_template_areas": null,
            "grid_template_columns": null,
            "grid_template_rows": null,
            "height": null,
            "justify_content": null,
            "justify_items": null,
            "left": null,
            "margin": null,
            "max_height": null,
            "max_width": null,
            "min_height": null,
            "min_width": null,
            "object_fit": null,
            "object_position": null,
            "order": null,
            "overflow": null,
            "overflow_x": null,
            "overflow_y": null,
            "padding": null,
            "right": null,
            "top": null,
            "visibility": null,
            "width": null
          }
        },
        "c3a36bb9213740538333b7c118a78c5d": {
          "model_module": "@jupyter-widgets/controls",
          "model_module_version": "1.5.0",
          "model_name": "HBoxModel",
          "state": {
            "_dom_classes": [],
            "_model_module": "@jupyter-widgets/controls",
            "_model_module_version": "1.5.0",
            "_model_name": "HBoxModel",
            "_view_count": null,
            "_view_module": "@jupyter-widgets/controls",
            "_view_module_version": "1.5.0",
            "_view_name": "HBoxView",
            "box_style": "",
            "children": [
              "IPY_MODEL_e46507eb9c104d5abe941fe934115235",
              "IPY_MODEL_aeabb732aa9841729e4bf2b2c55dc71b",
              "IPY_MODEL_53ec3da773fe49bf8b1357d99c7a7595"
            ],
            "layout": "IPY_MODEL_a4b982fe71be44f89bb18eb8060a570c"
          }
        },
        "c48f55d79eef42eeb0ffe6b20707d49c": {
          "model_module": "@jupyter-widgets/base",
          "model_module_version": "1.2.0",
          "model_name": "LayoutModel",
          "state": {
            "_model_module": "@jupyter-widgets/base",
            "_model_module_version": "1.2.0",
            "_model_name": "LayoutModel",
            "_view_count": null,
            "_view_module": "@jupyter-widgets/base",
            "_view_module_version": "1.2.0",
            "_view_name": "LayoutView",
            "align_content": null,
            "align_items": null,
            "align_self": null,
            "border": null,
            "bottom": null,
            "display": null,
            "flex": null,
            "flex_flow": null,
            "grid_area": null,
            "grid_auto_columns": null,
            "grid_auto_flow": null,
            "grid_auto_rows": null,
            "grid_column": null,
            "grid_gap": null,
            "grid_row": null,
            "grid_template_areas": null,
            "grid_template_columns": null,
            "grid_template_rows": null,
            "height": null,
            "justify_content": null,
            "justify_items": null,
            "left": null,
            "margin": null,
            "max_height": null,
            "max_width": null,
            "min_height": null,
            "min_width": null,
            "object_fit": null,
            "object_position": null,
            "order": null,
            "overflow": null,
            "overflow_x": null,
            "overflow_y": null,
            "padding": null,
            "right": null,
            "top": null,
            "visibility": null,
            "width": null
          }
        },
        "ce1889791b5b43c39782a02207db1c98": {
          "model_module": "@jupyter-widgets/controls",
          "model_module_version": "1.5.0",
          "model_name": "DescriptionStyleModel",
          "state": {
            "_model_module": "@jupyter-widgets/controls",
            "_model_module_version": "1.5.0",
            "_model_name": "DescriptionStyleModel",
            "_view_count": null,
            "_view_module": "@jupyter-widgets/base",
            "_view_module_version": "1.2.0",
            "_view_name": "StyleView",
            "description_width": ""
          }
        },
        "cf456295d398488b9337247e7ff6590c": {
          "model_module": "@jupyter-widgets/controls",
          "model_module_version": "1.5.0",
          "model_name": "DescriptionStyleModel",
          "state": {
            "_model_module": "@jupyter-widgets/controls",
            "_model_module_version": "1.5.0",
            "_model_name": "DescriptionStyleModel",
            "_view_count": null,
            "_view_module": "@jupyter-widgets/base",
            "_view_module_version": "1.2.0",
            "_view_name": "StyleView",
            "description_width": ""
          }
        },
        "e46507eb9c104d5abe941fe934115235": {
          "model_module": "@jupyter-widgets/controls",
          "model_module_version": "1.5.0",
          "model_name": "HTMLModel",
          "state": {
            "_dom_classes": [],
            "_model_module": "@jupyter-widgets/controls",
            "_model_module_version": "1.5.0",
            "_model_name": "HTMLModel",
            "_view_count": null,
            "_view_module": "@jupyter-widgets/controls",
            "_view_module_version": "1.5.0",
            "_view_name": "HTMLView",
            "description": "",
            "description_tooltip": null,
            "layout": "IPY_MODEL_56d87b78d9fa447b9ad38febf254d461",
            "placeholder": "​",
            "style": "IPY_MODEL_ce1889791b5b43c39782a02207db1c98",
            "value": "Map: 100%"
          }
        }
      }
    }
  },
  "nbformat": 4,
  "nbformat_minor": 0
}
