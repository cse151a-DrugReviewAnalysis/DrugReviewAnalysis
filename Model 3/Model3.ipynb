{
  "cells": [
    {
      "cell_type": "code",
      "execution_count": 23,
      "metadata": {},
      "outputs": [],
      "source": [
        "#!pip3 install datasets"
      ]
    },
    {
      "cell_type": "code",
      "execution_count": 24,
      "metadata": {},
      "outputs": [],
      "source": [
        "#!pip3 install transformers -U;"
      ]
    },
    {
      "cell_type": "code",
      "execution_count": 25,
      "metadata": {},
      "outputs": [],
      "source": [
        "#!pip3 install accelerate -U"
      ]
    },
    {
      "cell_type": "code",
      "execution_count": 26,
      "metadata": {
        "id": "LEojKM6_1QQ3"
      },
      "outputs": [],
      "source": [
        "import numpy as np\n",
        "import pandas as pd\n",
        "import seaborn as sns\n",
        "\n",
        "from sklearn.metrics import classification_report\n",
        "from sklearn.model_selection import cross_validate\n",
        "from sklearn.metrics import mean_squared_error\n",
        "from sklearn.metrics import accuracy_score\n",
        "from sklearn.metrics import f1_score\n",
        "\n",
        "import matplotlib.pyplot as plt\n",
        "\n",
        "import torch\n",
        "import tensorflow as tf\n",
        "\n",
        "from sklearn.model_selection import train_test_split\n",
        "\n",
        "import datasets\n",
        "from datasets import Dataset, DatasetDict\n",
        "\n",
        "from transformers import AutoTokenizer\n",
        "from transformers import AutoModelForSequenceClassification\n",
        "from transformers import TrainingArguments\n",
        "from transformers import Trainer"
      ]
    },
    {
      "cell_type": "code",
      "execution_count": 27,
      "metadata": {
        "colab": {
          "base_uri": "https://localhost:8080/"
        },
        "id": "9pUnRk9I1QQ6",
        "outputId": "d148d40c-b4e9-4c27-a0ad-82022672efab"
      },
      "outputs": [],
      "source": [
        "# !git clone https://github.com/cse151a-DrugReviewAnalysis/DrugReviewAnalysis.git"
      ]
    },
    {
      "cell_type": "code",
      "execution_count": 28,
      "metadata": {
        "id": "q_fUxCxb1QQ6"
      },
      "outputs": [],
      "source": [
        "# Get dataset for working locally\n",
        "df_train = pd.read_csv(\"drugsTrain_processed_with_usefulCount.csv\", sep=\"\\t\")\n",
        "df_test = pd.read_csv(\"drugsTest_processed_with_usefulCount.csv\", sep=\"\\t\")"
      ]
    },
    {
      "cell_type": "code",
      "execution_count": 29,
      "metadata": {
        "id": "11BbgwaV1QQ7"
      },
      "outputs": [],
      "source": [
        "# Get dataset when working on colab\n",
        "# df_train = pd.read_csv(\"DrugReviewAnalysis/Model 3/drugsTrain_processed_with_usefulCount.csv\", sep=\"\\t\")\n",
        "# df_test = pd.read_csv(\"DrugReviewAnalysis/Model 3/drugsTest_processed_with_usefulCount.csv\", sep=\"\\t\")"
      ]
    },
    {
      "cell_type": "code",
      "execution_count": 30,
      "metadata": {
        "id": "n7ttixB3TiIO"
      },
      "outputs": [],
      "source": [
        "df_train = df_train.sample(frac=0.7, random_state=42).reset_index()\n",
        "df_test = df_test.sample(frac=0.7, random_state=42).reset_index()"
      ]
    },
    {
      "cell_type": "code",
      "execution_count": 31,
      "metadata": {
        "colab": {
          "base_uri": "https://localhost:8080/"
        },
        "id": "9cv9s0B0qqAB",
        "outputId": "53f75be4-eb86-42df-985a-01c1bb6f8cf4"
      },
      "outputs": [
        {
          "data": {
            "text/plain": [
              "((111649, 8), (37240, 8))"
            ]
          },
          "execution_count": 31,
          "metadata": {},
          "output_type": "execute_result"
        }
      ],
      "source": [
        "df_train.shape, df_test.shape"
      ]
    },
    {
      "cell_type": "code",
      "execution_count": 32,
      "metadata": {
        "id": "qt7XkMDX6vrG"
      },
      "outputs": [],
      "source": [
        "df_val, df_test_new = train_test_split(df_test, test_size=0.6, random_state=42)"
      ]
    },
    {
      "cell_type": "code",
      "execution_count": 33,
      "metadata": {
        "id": "jflObYdjF_WX"
      },
      "outputs": [],
      "source": [
        "ds_train = Dataset.from_pandas(df_train[[\"processed_review\", \"rating\"]])\n",
        "ds_val = Dataset.from_pandas(df_val.reset_index()[[\"processed_review\", \"rating\"]])\n",
        "ds_test = Dataset.from_pandas(df_test_new.reset_index()[[\"processed_review\", \"rating\"]])"
      ]
    },
    {
      "cell_type": "code",
      "execution_count": 34,
      "metadata": {
        "id": "Cn-fjLLZGkmP"
      },
      "outputs": [],
      "source": [
        "ds = DatasetDict()\n",
        "\n",
        "ds[\"train\"] = ds_train\n",
        "ds[\"validation\"] = ds_val\n",
        "ds[\"test\"] = ds_test"
      ]
    },
    {
      "cell_type": "code",
      "execution_count": 35,
      "metadata": {
        "colab": {
          "base_uri": "https://localhost:8080/"
        },
        "id": "PPnmZrB0GxkW",
        "outputId": "46a19322-4f3a-4051-cd5d-c10408daad17"
      },
      "outputs": [
        {
          "data": {
            "text/plain": [
              "DatasetDict({\n",
              "    train: Dataset({\n",
              "        features: ['processed_review', 'rating'],\n",
              "        num_rows: 111649\n",
              "    })\n",
              "    validation: Dataset({\n",
              "        features: ['processed_review', 'rating'],\n",
              "        num_rows: 14896\n",
              "    })\n",
              "    test: Dataset({\n",
              "        features: ['processed_review', 'rating'],\n",
              "        num_rows: 22344\n",
              "    })\n",
              "})"
            ]
          },
          "execution_count": 35,
          "metadata": {},
          "output_type": "execute_result"
        }
      ],
      "source": [
        "ds"
      ]
    },
    {
      "cell_type": "code",
      "execution_count": 36,
      "metadata": {
        "colab": {
          "base_uri": "https://localhost:8080/"
        },
        "id": "XniOEfUygxub",
        "outputId": "e83ae8b1-61a5-4d80-f824-e3be4b9f1ce3"
      },
      "outputs": [],
      "source": [
        "tokenizer = AutoTokenizer.from_pretrained(\"bert-base-uncased\")"
      ]
    },
    {
      "cell_type": "code",
      "execution_count": 37,
      "metadata": {
        "id": "LCZrgKt8HxoZ"
      },
      "outputs": [],
      "source": [
        "def preprocess(samples):\n",
        "  text = samples[\"processed_review\"]\n",
        "  encoding = tokenizer(text, padding=\"max_length\", truncation=True, max_length=128, return_attention_mask=True)\n",
        "  encoding[\"labels\"] = samples[\"rating\"]\n",
        "  return encoding"
      ]
    },
    {
      "cell_type": "code",
      "execution_count": 38,
      "metadata": {
        "colab": {
          "base_uri": "https://localhost:8080/",
          "height": 113,
          "referenced_widgets": [
            "a26e6952b58b4186b63029020bdf3d36",
            "aeea8a49f56348f8b2a227d43fe7c4ee",
            "634ed335742a4697b66f9089c255e26e",
            "551e305c425444a1b967b31e55f12a8f",
            "531d36b892c645cf83f87ecb55d7d210",
            "0cee2753b02d4c7cb160192e5f658860",
            "cf456295d398488b9337247e7ff6590c",
            "c48f55d79eef42eeb0ffe6b20707d49c",
            "3797acf78244495db3301dbf3ac0fb03",
            "c2c635dfdce949b39579f375bfca5b6d",
            "446fa1a6d7fb407da9f3bdbb5969fcf3",
            "7785751a18734e6f83679ea7c74798f0",
            "c21d410014944bdb883729ff43407960",
            "7540dc0409ca4b5090e00cc1dcc5c238",
            "23c879bb52d844bbaec396663ea632ee",
            "8e3e9abad12d4aa09c92811e65783339",
            "9cb67a27639844b5a897cd47b2854186",
            "c111663097ff41799c43d3de462b9c59",
            "bd1ea91833bc4c009b24a61a6e186013",
            "837a3d6ef3844aac9f30d8b46cb05a4b",
            "36ea93140e20426c80e0d2d5f00744ce",
            "6af741f237474471b04604ea7fb6abea",
            "c3a36bb9213740538333b7c118a78c5d",
            "e46507eb9c104d5abe941fe934115235",
            "aeabb732aa9841729e4bf2b2c55dc71b",
            "53ec3da773fe49bf8b1357d99c7a7595",
            "a4b982fe71be44f89bb18eb8060a570c",
            "56d87b78d9fa447b9ad38febf254d461",
            "ce1889791b5b43c39782a02207db1c98",
            "a7e0f0c5ff164d1b85a2c0ff119554cc",
            "4580bcc82ac843e59c6b06e26fdaccbd",
            "70628bc837704ddb8f947e6523d4b359",
            "6d1ec46d841541a69c08c30185598c2b"
          ]
        },
        "id": "U_dVTIa1ISK8",
        "outputId": "f155c587-427c-4766-cfd9-a88138fce1f0"
      },
      "outputs": [
        {
          "name": "stderr",
          "output_type": "stream",
          "text": [
            "Map: 100%|██████████| 111649/111649 [00:12<00:00, 8975.89 examples/s]\n",
            "Map: 100%|██████████| 14896/14896 [00:01<00:00, 8061.56 examples/s]\n",
            "Map: 100%|██████████| 22344/22344 [00:02<00:00, 9180.08 examples/s]\n"
          ]
        }
      ],
      "source": [
        "encoded_dataset = ds.map(preprocess, batched=True, remove_columns=ds['train'].column_names)"
      ]
    },
    {
      "cell_type": "code",
      "execution_count": 39,
      "metadata": {
        "id": "hME0qO_ZJyTi"
      },
      "outputs": [],
      "source": [
        "encoded_dataset.set_format(\"torch\")"
      ]
    },
    {
      "cell_type": "code",
      "execution_count": 40,
      "metadata": {
        "colab": {
          "base_uri": "https://localhost:8080/"
        },
        "id": "jRvzuJPEnK7O",
        "outputId": "70a3a960-2833-49a1-bfef-617e86e5ba22"
      },
      "outputs": [
        {
          "name": "stderr",
          "output_type": "stream",
          "text": [
            "Some weights of BertForSequenceClassification were not initialized from the model checkpoint at bert-base-uncased and are newly initialized: ['classifier.bias', 'classifier.weight']\n",
            "You should probably TRAIN this model on a down-stream task to be able to use it for predictions and inference.\n"
          ]
        }
      ],
      "source": [
        "model = AutoModelForSequenceClassification.from_pretrained(\"bert-base-uncased\", num_labels=1)"
      ]
    },
    {
      "cell_type": "code",
      "execution_count": 41,
      "metadata": {
        "id": "aJQnSr87nqLk"
      },
      "outputs": [],
      "source": [
        "\n",
        "args = TrainingArguments(\n",
        "    output_dir=\"/bert-regression\", # for local\n",
        "    # output_dir = \"DrugReviewAnalysis/Model 3/bert-regression\", # for colab\n",
        "    evaluation_strategy=\"epoch\",\n",
        "    save_strategy=\"epoch\",\n",
        "    learning_rate=2e-5,\n",
        "    per_device_train_batch_size=64,\n",
        "    per_device_eval_batch_size=64,\n",
        "    num_train_epochs=10,\n",
        "    weight_decay=0.01,\n",
        "    load_best_model_at_end=True,\n",
        "    metric_for_best_model=\"loss\",\n",
        ")"
      ]
    },
    {
      "cell_type": "code",
      "execution_count": 42,
      "metadata": {
        "id": "9xPZMCcSLE8X"
      },
      "outputs": [],
      "source": [
        "def compute_metrics(eval_pred):\n",
        "  predictions, labels = eval_pred\n",
        "  mse = mean_squared_error(labels, predictions)\n",
        "  pred_modified = np.where(predictions < 10.0, np.round(predictions), 10.0)\n",
        "  print(labels)\n",
        "  acc = accuracy_score(labels, pred_modified)\n",
        "  f1 = f1_score(labels, pred_modified, average=\"macro\")\n",
        "  return {\"mse\": mse, \"accuracy-approximation\": acc, \"f1-approximation\": f1}"
      ]
    },
    {
      "cell_type": "code",
      "execution_count": 43,
      "metadata": {
        "colab": {
          "base_uri": "https://localhost:8080/",
          "height": 216
        },
        "id": "M1MrEwqELhQU",
        "outputId": "440e8cbf-2dca-4d97-8c48-d15c3d35c668"
      },
      "outputs": [
        {
          "name": "stderr",
          "output_type": "stream",
          "text": [
            "c:\\Users\\jason\\AppData\\Local\\Programs\\Python\\Python311\\Lib\\site-packages\\accelerate\\accelerator.py:432: FutureWarning: Passing the following arguments to `Accelerator` is deprecated and will be removed in version 1.0 of Accelerate: dict_keys(['dispatch_batches', 'split_batches', 'even_batches', 'use_seedable_sampler']). Please pass an `accelerate.DataLoaderConfiguration` instead: \n",
            "dataloader_config = DataLoaderConfiguration(dispatch_batches=None, split_batches=False, even_batches=True, use_seedable_sampler=True)\n",
            "  warnings.warn(\n"
          ]
        }
      ],
      "source": [
        "trainer = Trainer(\n",
        "    model=model,\n",
        "    args=args,\n",
        "    train_dataset=encoded_dataset[\"train\"],\n",
        "    eval_dataset=encoded_dataset[\"validation\"],\n",
        "    tokenizer=tokenizer,\n",
        "    compute_metrics=compute_metrics\n",
        ")"
      ]
    },
    {
      "cell_type": "code",
      "execution_count": 45,
      "metadata": {
        "colab": {
          "base_uri": "https://localhost:8080/",
          "height": 268
        },
        "id": "YLschwr7LyDU",
        "outputId": "40ae2beb-43b7-44f8-b639-408c5ef7f5f4"
      },
      "outputs": [
        {
          "name": "stderr",
          "output_type": "stream",
          "text": [
            " 78%|███████▊  | 6764/8725 [53:52<15:37,  2.09it/s]\n",
            "  7%|▋         | 1260/17450 [12:45<2:44:00,  1.65it/s]\n",
            "  3%|▎         | 500/17450 [03:14<1:47:14,  2.63it/s]"
          ]
        },
        {
          "name": "stdout",
          "output_type": "stream",
          "text": [
            "{'loss': 2.905, 'grad_norm': 95.69025421142578, 'learning_rate': 1.9426934097421205e-05, 'epoch': 0.29}\n"
          ]
        },
        {
          "name": "stderr",
          "output_type": "stream",
          "text": [
            "  6%|▌         | 1000/17450 [06:28<1:44:39,  2.62it/s]"
          ]
        },
        {
          "name": "stdout",
          "output_type": "stream",
          "text": [
            "{'loss': 2.4893, 'grad_norm': 42.23804473876953, 'learning_rate': 1.8853868194842408e-05, 'epoch': 0.57}\n"
          ]
        },
        {
          "name": "stderr",
          "output_type": "stream",
          "text": [
            "  9%|▊         | 1500/17450 [09:40<1:40:36,  2.64it/s]"
          ]
        },
        {
          "name": "stdout",
          "output_type": "stream",
          "text": [
            "{'loss': 2.6165, 'grad_norm': 58.98017501831055, 'learning_rate': 1.828080229226361e-05, 'epoch': 0.86}\n"
          ]
        },
        {
          "name": "stderr",
          "output_type": "stream",
          "text": [
            " 10%|█         | 1745/17450 [11:14<1:25:33,  3.06it/s]"
          ]
        },
        {
          "name": "stdout",
          "output_type": "stream",
          "text": [
            "[ 1.  1.  8. ...  1. 10.  4.]\n"
          ]
        },
        {
          "name": "stderr",
          "output_type": "stream",
          "text": [
            "                                                      \n",
            " 10%|█         | 1745/17450 [11:47<1:25:33,  3.06it/s]Checkpoint destination directory /bert-regression\\checkpoint-1745 already exists and is non-empty. Saving will proceed but saved results may be invalid.\n"
          ]
        },
        {
          "name": "stdout",
          "output_type": "stream",
          "text": [
            "{'eval_loss': 2.60516357421875, 'eval_mse': 2.60516357421875, 'eval_accuracy-approximation': 0.3788265306122449, 'eval_f1-approximation': 0.2734060404839417, 'eval_runtime': 32.098, 'eval_samples_per_second': 464.079, 'eval_steps_per_second': 7.259, 'epoch': 1.0}\n"
          ]
        },
        {
          "name": "stderr",
          "output_type": "stream",
          "text": [
            " 11%|█▏        | 2000/17450 [13:28<1:37:50,  2.63it/s] "
          ]
        },
        {
          "name": "stdout",
          "output_type": "stream",
          "text": [
            "{'loss': 2.4085, 'grad_norm': 22.057466506958008, 'learning_rate': 1.7707736389684814e-05, 'epoch': 1.15}\n"
          ]
        },
        {
          "name": "stderr",
          "output_type": "stream",
          "text": [
            " 14%|█▍        | 2500/17450 [16:39<1:34:31,  2.64it/s]"
          ]
        },
        {
          "name": "stdout",
          "output_type": "stream",
          "text": [
            "{'loss': 1.9956, 'grad_norm': 35.471858978271484, 'learning_rate': 1.7134670487106017e-05, 'epoch': 1.43}\n"
          ]
        },
        {
          "name": "stderr",
          "output_type": "stream",
          "text": [
            " 17%|█▋        | 3000/17450 [19:50<1:31:14,  2.64it/s]"
          ]
        },
        {
          "name": "stdout",
          "output_type": "stream",
          "text": [
            "{'loss': 1.9279, 'grad_norm': 29.316661834716797, 'learning_rate': 1.6561604584527223e-05, 'epoch': 1.72}\n"
          ]
        },
        {
          "name": "stderr",
          "output_type": "stream",
          "text": [
            " 20%|██        | 3490/17450 [22:55<1:16:03,  3.06it/s]"
          ]
        },
        {
          "name": "stdout",
          "output_type": "stream",
          "text": [
            "[ 1.  1.  8. ...  1. 10.  4.]\n"
          ]
        },
        {
          "name": "stderr",
          "output_type": "stream",
          "text": [
            "                                                      \n",
            " 20%|██        | 3490/17450 [23:27<1:16:03,  3.06it/s]Checkpoint destination directory /bert-regression\\checkpoint-3490 already exists and is non-empty. Saving will proceed but saved results may be invalid.\n"
          ]
        },
        {
          "name": "stdout",
          "output_type": "stream",
          "text": [
            "{'eval_loss': 2.3963122367858887, 'eval_mse': 2.3963122367858887, 'eval_accuracy-approximation': 0.41803168635875404, 'eval_f1-approximation': 0.3043177702084166, 'eval_runtime': 31.8835, 'eval_samples_per_second': 467.201, 'eval_steps_per_second': 7.308, 'epoch': 2.0}\n"
          ]
        },
        {
          "name": "stderr",
          "output_type": "stream",
          "text": [
            " 20%|██        | 3500/17450 [23:35<3:23:22,  1.14it/s] "
          ]
        },
        {
          "name": "stdout",
          "output_type": "stream",
          "text": [
            "{'loss': 1.8753, 'grad_norm': 26.11258888244629, 'learning_rate': 1.5988538681948423e-05, 'epoch': 2.01}\n"
          ]
        },
        {
          "name": "stderr",
          "output_type": "stream",
          "text": [
            " 23%|██▎       | 4000/17450 [26:46<1:25:13,  2.63it/s]"
          ]
        },
        {
          "name": "stdout",
          "output_type": "stream",
          "text": [
            "{'loss': 1.4689, 'grad_norm': 90.81471252441406, 'learning_rate': 1.541547277936963e-05, 'epoch': 2.29}\n"
          ]
        },
        {
          "name": "stderr",
          "output_type": "stream",
          "text": [
            " 26%|██▌       | 4500/17450 [29:53<1:13:41,  2.93it/s]"
          ]
        },
        {
          "name": "stdout",
          "output_type": "stream",
          "text": [
            "{'loss': 1.4461, 'grad_norm': 31.236661911010742, 'learning_rate': 1.4842406876790831e-05, 'epoch': 2.58}\n"
          ]
        },
        {
          "name": "stderr",
          "output_type": "stream",
          "text": [
            " 29%|██▊       | 5000/17450 [32:45<1:11:55,  2.89it/s]"
          ]
        },
        {
          "name": "stdout",
          "output_type": "stream",
          "text": [
            "{'loss': 1.4396, 'grad_norm': 38.286285400390625, 'learning_rate': 1.4269340974212036e-05, 'epoch': 2.87}\n"
          ]
        },
        {
          "name": "stderr",
          "output_type": "stream",
          "text": [
            " 30%|███       | 5235/17450 [34:06<1:00:54,  3.34it/s]"
          ]
        },
        {
          "name": "stdout",
          "output_type": "stream",
          "text": [
            "[ 1.  1.  8. ...  1. 10.  4.]\n"
          ]
        },
        {
          "name": "stderr",
          "output_type": "stream",
          "text": [
            "                                                      \n",
            " 30%|███       | 5235/17450 [34:35<1:00:54,  3.34it/s]Checkpoint destination directory /bert-regression\\checkpoint-5235 already exists and is non-empty. Saving will proceed but saved results may be invalid.\n"
          ]
        },
        {
          "name": "stdout",
          "output_type": "stream",
          "text": [
            "{'eval_loss': 2.350306749343872, 'eval_mse': 2.350306510925293, 'eval_accuracy-approximation': 0.4321965628356606, 'eval_f1-approximation': 0.31110733775704946, 'eval_runtime': 28.9271, 'eval_samples_per_second': 514.949, 'eval_steps_per_second': 8.055, 'epoch': 3.0}\n"
          ]
        },
        {
          "name": "stderr",
          "output_type": "stream",
          "text": [
            " 32%|███▏      | 5500/17450 [36:10<1:07:16,  2.96it/s] "
          ]
        },
        {
          "name": "stdout",
          "output_type": "stream",
          "text": [
            "{'loss': 1.3099, 'grad_norm': 22.634063720703125, 'learning_rate': 1.3696275071633239e-05, 'epoch': 3.15}\n"
          ]
        },
        {
          "name": "stderr",
          "output_type": "stream",
          "text": [
            " 34%|███▍      | 6000/17450 [39:10<1:17:04,  2.48it/s]"
          ]
        },
        {
          "name": "stdout",
          "output_type": "stream",
          "text": [
            "{'loss': 1.1265, 'grad_norm': 20.024658203125, 'learning_rate': 1.3123209169054444e-05, 'epoch': 3.44}\n"
          ]
        },
        {
          "name": "stderr",
          "output_type": "stream",
          "text": [
            " 37%|███▋      | 6500/17450 [42:55<1:35:59,  1.90it/s]"
          ]
        },
        {
          "name": "stdout",
          "output_type": "stream",
          "text": [
            "{'loss': 1.1221, 'grad_norm': 19.483234405517578, 'learning_rate': 1.2550143266475645e-05, 'epoch': 3.72}\n"
          ]
        },
        {
          "name": "stderr",
          "output_type": "stream",
          "text": [
            " 40%|████      | 6980/17450 [46:01<50:57,  3.42it/s]  "
          ]
        },
        {
          "name": "stdout",
          "output_type": "stream",
          "text": [
            "[ 1.  1.  8. ...  1. 10.  4.]\n"
          ]
        },
        {
          "name": "stderr",
          "output_type": "stream",
          "text": [
            "                                                    \n",
            " 40%|████      | 6980/17450 [46:29<50:57,  3.42it/s]Checkpoint destination directory /bert-regression\\checkpoint-6980 already exists and is non-empty. Saving will proceed but saved results may be invalid.\n"
          ]
        },
        {
          "name": "stdout",
          "output_type": "stream",
          "text": [
            "{'eval_loss': 2.247688055038452, 'eval_mse': 2.247688055038452, 'eval_accuracy-approximation': 0.45233619763694954, 'eval_f1-approximation': 0.3369046253922941, 'eval_runtime': 28.3212, 'eval_samples_per_second': 525.966, 'eval_steps_per_second': 8.227, 'epoch': 4.0}\n"
          ]
        },
        {
          "name": "stderr",
          "output_type": "stream",
          "text": [
            " 40%|████      | 7000/17450 [46:39<1:00:20,  2.89it/s] "
          ]
        },
        {
          "name": "stdout",
          "output_type": "stream",
          "text": [
            "{'loss': 1.1011, 'grad_norm': 12.612014770507812, 'learning_rate': 1.197707736389685e-05, 'epoch': 4.01}\n"
          ]
        },
        {
          "name": "stderr",
          "output_type": "stream",
          "text": [
            " 43%|████▎     | 7500/17450 [49:29<56:40,  2.93it/s]  "
          ]
        },
        {
          "name": "stdout",
          "output_type": "stream",
          "text": [
            "{'loss': 0.932, 'grad_norm': 32.902801513671875, 'learning_rate': 1.1404011461318051e-05, 'epoch': 4.3}\n"
          ]
        },
        {
          "name": "stderr",
          "output_type": "stream",
          "text": [
            " 46%|████▌     | 8000/17450 [52:22<57:14,  2.75it/s]  "
          ]
        },
        {
          "name": "stdout",
          "output_type": "stream",
          "text": [
            "{'loss': 0.9162, 'grad_norm': 22.089685440063477, 'learning_rate': 1.0830945558739256e-05, 'epoch': 4.58}\n"
          ]
        },
        {
          "name": "stderr",
          "output_type": "stream",
          "text": [
            " 49%|████▊     | 8500/17450 [55:27<53:52,  2.77it/s]  "
          ]
        },
        {
          "name": "stdout",
          "output_type": "stream",
          "text": [
            "{'loss': 0.9101, 'grad_norm': 38.41679382324219, 'learning_rate': 1.0257879656160459e-05, 'epoch': 4.87}\n"
          ]
        },
        {
          "name": "stderr",
          "output_type": "stream",
          "text": [
            " 50%|█████     | 8725/17450 [56:50<46:42,  3.11it/s]  "
          ]
        },
        {
          "name": "stdout",
          "output_type": "stream",
          "text": [
            "[ 1.  1.  8. ...  1. 10.  4.]\n"
          ]
        },
        {
          "name": "stderr",
          "output_type": "stream",
          "text": [
            "                                                    \n",
            " 50%|█████     | 8725/17450 [57:23<46:42,  3.11it/s]Checkpoint destination directory /bert-regression\\checkpoint-8725 already exists and is non-empty. Saving will proceed but saved results may be invalid.\n"
          ]
        },
        {
          "name": "stdout",
          "output_type": "stream",
          "text": [
            "{'eval_loss': 2.1937434673309326, 'eval_mse': 2.1937434673309326, 'eval_accuracy-approximation': 0.4714017185821697, 'eval_f1-approximation': 0.35248618265194975, 'eval_runtime': 32.9473, 'eval_samples_per_second': 452.116, 'eval_steps_per_second': 7.072, 'epoch': 5.0}\n"
          ]
        },
        {
          "name": "stderr",
          "output_type": "stream",
          "text": [
            " 52%|█████▏    | 9000/17450 [59:57<1:19:57,  1.76it/s] "
          ]
        },
        {
          "name": "stdout",
          "output_type": "stream",
          "text": [
            "{'loss': 0.8038, 'grad_norm': 14.267265319824219, 'learning_rate': 9.684813753581662e-06, 'epoch': 5.16}\n"
          ]
        },
        {
          "name": "stderr",
          "output_type": "stream",
          "text": [
            " 54%|█████▍    | 9500/17450 [1:06:20<2:25:20,  1.10s/it]"
          ]
        },
        {
          "name": "stdout",
          "output_type": "stream",
          "text": [
            "{'loss': 0.7714, 'grad_norm': 22.769817352294922, 'learning_rate': 9.111747851002865e-06, 'epoch': 5.44}\n"
          ]
        },
        {
          "name": "stderr",
          "output_type": "stream",
          "text": [
            " 57%|█████▋    | 10000/17450 [1:13:41<2:59:03,  1.44s/it]"
          ]
        },
        {
          "name": "stdout",
          "output_type": "stream",
          "text": [
            "{'loss': 0.7696, 'grad_norm': 19.873868942260742, 'learning_rate': 8.53868194842407e-06, 'epoch': 5.73}\n"
          ]
        },
        {
          "name": "stderr",
          "output_type": "stream",
          "text": [
            "                                                         \n",
            " 60%|██████    | 10470/17450 [1:19:48<56:33,  2.06it/s]"
          ]
        },
        {
          "name": "stdout",
          "output_type": "stream",
          "text": [
            "[ 1.  1.  8. ...  1. 10.  4.]\n",
            "{'eval_loss': 2.1464502811431885, 'eval_mse': 2.1464502811431885, 'eval_accuracy-approximation': 0.5001342642320086, 'eval_f1-approximation': 0.37400376038446703, 'eval_runtime': 47.2436, 'eval_samples_per_second': 315.302, 'eval_steps_per_second': 4.932, 'epoch': 6.0}\n"
          ]
        },
        {
          "name": "stderr",
          "output_type": "stream",
          "text": [
            " 60%|██████    | 10500/17450 [1:20:07<1:05:49,  1.76it/s] "
          ]
        },
        {
          "name": "stdout",
          "output_type": "stream",
          "text": [
            "{'loss': 0.737, 'grad_norm': 23.558486938476562, 'learning_rate': 7.965616045845273e-06, 'epoch': 6.02}\n"
          ]
        },
        {
          "name": "stderr",
          "output_type": "stream",
          "text": [
            " 63%|██████▎   | 11000/17450 [1:24:59<1:02:58,  1.71it/s]"
          ]
        },
        {
          "name": "stdout",
          "output_type": "stream",
          "text": [
            "{'loss': 0.6628, 'grad_norm': 25.856847763061523, 'learning_rate': 7.392550143266476e-06, 'epoch': 6.3}\n"
          ]
        },
        {
          "name": "stderr",
          "output_type": "stream",
          "text": [
            " 66%|██████▌   | 11500/17450 [1:29:48<54:23,  1.82it/s]  "
          ]
        },
        {
          "name": "stdout",
          "output_type": "stream",
          "text": [
            "{'loss': 0.6325, 'grad_norm': 15.768644332885742, 'learning_rate': 6.819484240687679e-06, 'epoch': 6.59}\n"
          ]
        },
        {
          "name": "stderr",
          "output_type": "stream",
          "text": [
            " 69%|██████▉   | 12000/17450 [1:34:23<52:57,  1.72it/s]"
          ]
        },
        {
          "name": "stdout",
          "output_type": "stream",
          "text": [
            "{'loss': 0.6333, 'grad_norm': 13.51729679107666, 'learning_rate': 6.246418338108883e-06, 'epoch': 6.88}\n"
          ]
        },
        {
          "name": "stderr",
          "output_type": "stream",
          "text": [
            " 70%|███████   | 12215/17450 [1:36:24<41:47,  2.09it/s]"
          ]
        },
        {
          "name": "stdout",
          "output_type": "stream",
          "text": [
            "[ 1.  1.  8. ...  1. 10.  4.]\n"
          ]
        },
        {
          "name": "stderr",
          "output_type": "stream",
          "text": [
            "                                                       \n",
            " 70%|███████   | 12215/17450 [1:37:11<41:47,  2.09it/s]"
          ]
        },
        {
          "name": "stdout",
          "output_type": "stream",
          "text": [
            "{'eval_loss': 2.0931339263916016, 'eval_mse': 2.0931339263916016, 'eval_accuracy-approximation': 0.5056390977443609, 'eval_f1-approximation': 0.3904836707766589, 'eval_runtime': 46.363, 'eval_samples_per_second': 321.29, 'eval_steps_per_second': 5.026, 'epoch': 7.0}\n"
          ]
        },
        {
          "name": "stderr",
          "output_type": "stream",
          "text": [
            " 72%|███████▏  | 12500/17450 [1:39:49<43:16,  1.91it/s]   "
          ]
        },
        {
          "name": "stdout",
          "output_type": "stream",
          "text": [
            "{'loss': 0.5923, 'grad_norm': 10.888526916503906, 'learning_rate': 5.673352435530086e-06, 'epoch': 7.16}\n"
          ]
        },
        {
          "name": "stderr",
          "output_type": "stream",
          "text": [
            " 74%|███████▍  | 13000/17450 [1:44:20<41:40,  1.78it/s]"
          ]
        },
        {
          "name": "stdout",
          "output_type": "stream",
          "text": [
            "{'loss': 0.5648, 'grad_norm': 22.482486724853516, 'learning_rate': 5.10028653295129e-06, 'epoch': 7.45}\n"
          ]
        },
        {
          "name": "stderr",
          "output_type": "stream",
          "text": [
            " 77%|███████▋  | 13500/17450 [1:48:48<38:58,  1.69it/s]"
          ]
        },
        {
          "name": "stdout",
          "output_type": "stream",
          "text": [
            "{'loss': 0.553, 'grad_norm': 20.177427291870117, 'learning_rate': 4.527220630372493e-06, 'epoch': 7.74}\n"
          ]
        },
        {
          "name": "stderr",
          "output_type": "stream",
          "text": [
            "                                                       \n",
            " 80%|████████  | 13960/17450 [1:53:44<27:24,  2.12it/s]"
          ]
        },
        {
          "name": "stdout",
          "output_type": "stream",
          "text": [
            "[ 1.  1.  8. ...  1. 10.  4.]\n",
            "{'eval_loss': 2.0610203742980957, 'eval_mse': 2.0610203742980957, 'eval_accuracy-approximation': 0.514030612244898, 'eval_f1-approximation': 0.4036513857627835, 'eval_runtime': 43.5994, 'eval_samples_per_second': 341.656, 'eval_steps_per_second': 5.344, 'epoch': 8.0}\n"
          ]
        },
        {
          "name": "stderr",
          "output_type": "stream",
          "text": [
            " 80%|████████  | 14000/17450 [1:54:08<31:15,  1.84it/s]   "
          ]
        },
        {
          "name": "stdout",
          "output_type": "stream",
          "text": [
            "{'loss': 0.5479, 'grad_norm': 20.669883728027344, 'learning_rate': 3.954154727793696e-06, 'epoch': 8.02}\n"
          ]
        },
        {
          "name": "stderr",
          "output_type": "stream",
          "text": [
            " 83%|████████▎ | 14500/17450 [1:58:29<23:16,  2.11it/s]"
          ]
        },
        {
          "name": "stdout",
          "output_type": "stream",
          "text": [
            "{'loss': 0.4972, 'grad_norm': 9.329983711242676, 'learning_rate': 3.3810888252149e-06, 'epoch': 8.31}\n"
          ]
        },
        {
          "name": "stderr",
          "output_type": "stream",
          "text": [
            " 86%|████████▌ | 15000/17450 [2:02:48<20:12,  2.02it/s]"
          ]
        },
        {
          "name": "stdout",
          "output_type": "stream",
          "text": [
            "{'loss': 0.4998, 'grad_norm': 18.9431095123291, 'learning_rate': 2.8080229226361035e-06, 'epoch': 8.6}\n"
          ]
        },
        {
          "name": "stderr",
          "output_type": "stream",
          "text": [
            " 89%|████████▉ | 15500/17450 [2:06:57<15:52,  2.05it/s]"
          ]
        },
        {
          "name": "stdout",
          "output_type": "stream",
          "text": [
            "{'loss': 0.4922, 'grad_norm': 17.21569061279297, 'learning_rate': 2.2349570200573066e-06, 'epoch': 8.88}\n"
          ]
        },
        {
          "name": "stderr",
          "output_type": "stream",
          "text": [
            "                                                       \n",
            " 90%|█████████ | 15705/17450 [2:09:19<12:04,  2.41it/s]"
          ]
        },
        {
          "name": "stdout",
          "output_type": "stream",
          "text": [
            "[ 1.  1.  8. ...  1. 10.  4.]\n",
            "{'eval_loss': 2.0375728607177734, 'eval_mse': 2.0375728607177734, 'eval_accuracy-approximation': 0.5198711063372717, 'eval_f1-approximation': 0.41003823655054716, 'eval_runtime': 41.7714, 'eval_samples_per_second': 356.608, 'eval_steps_per_second': 5.578, 'epoch': 9.0}\n"
          ]
        },
        {
          "name": "stderr",
          "output_type": "stream",
          "text": [
            " 92%|█████████▏| 16000/17450 [2:11:51<11:15,  2.15it/s]  "
          ]
        },
        {
          "name": "stdout",
          "output_type": "stream",
          "text": [
            "{'loss': 0.467, 'grad_norm': 12.808438301086426, 'learning_rate': 1.66189111747851e-06, 'epoch': 9.17}\n"
          ]
        },
        {
          "name": "stderr",
          "output_type": "stream",
          "text": [
            " 95%|█████████▍| 16500/17450 [2:15:55<08:02,  1.97it/s]"
          ]
        },
        {
          "name": "stdout",
          "output_type": "stream",
          "text": [
            "{'loss': 0.4555, 'grad_norm': 18.319612503051758, 'learning_rate': 1.0888252148997136e-06, 'epoch': 9.46}\n"
          ]
        },
        {
          "name": "stderr",
          "output_type": "stream",
          "text": [
            " 97%|█████████▋| 17000/17450 [2:20:50<02:33,  2.93it/s]"
          ]
        },
        {
          "name": "stdout",
          "output_type": "stream",
          "text": [
            "{'loss': 0.4517, 'grad_norm': 10.570630073547363, 'learning_rate': 5.15759312320917e-07, 'epoch': 9.74}\n"
          ]
        },
        {
          "name": "stderr",
          "output_type": "stream",
          "text": [
            "100%|██████████| 17450/17450 [2:23:45<00:00,  2.22it/s]"
          ]
        },
        {
          "name": "stdout",
          "output_type": "stream",
          "text": [
            "[ 1.  1.  8. ...  1. 10.  4.]\n"
          ]
        },
        {
          "name": "stderr",
          "output_type": "stream",
          "text": [
            "                                                       \n",
            "100%|██████████| 17450/17450 [2:24:34<00:00,  2.22it/s]"
          ]
        },
        {
          "name": "stdout",
          "output_type": "stream",
          "text": [
            "{'eval_loss': 2.0344936847686768, 'eval_mse': 2.0344936847686768, 'eval_accuracy-approximation': 0.5216836734693877, 'eval_f1-approximation': 0.4117950012247834, 'eval_runtime': 48.6908, 'eval_samples_per_second': 305.93, 'eval_steps_per_second': 4.785, 'epoch': 10.0}\n"
          ]
        },
        {
          "name": "stderr",
          "output_type": "stream",
          "text": [
            "100%|██████████| 17450/17450 [2:24:38<00:00,  2.01it/s]"
          ]
        },
        {
          "name": "stdout",
          "output_type": "stream",
          "text": [
            "{'train_runtime': 8678.049, 'train_samples_per_second': 128.657, 'train_steps_per_second': 2.011, 'train_loss': 1.1042376805171583, 'epoch': 10.0}\n"
          ]
        },
        {
          "name": "stderr",
          "output_type": "stream",
          "text": [
            "\n"
          ]
        },
        {
          "data": {
            "text/plain": [
              "TrainOutput(global_step=17450, training_loss=1.1042376805171583, metrics={'train_runtime': 8678.049, 'train_samples_per_second': 128.657, 'train_steps_per_second': 2.011, 'train_loss': 1.1042376805171583, 'epoch': 10.0})"
            ]
          },
          "execution_count": 45,
          "metadata": {},
          "output_type": "execute_result"
        }
      ],
      "source": [
        "trainer.train()"
      ]
    },
    {
      "cell_type": "code",
      "execution_count": 47,
      "metadata": {},
      "outputs": [
        {
          "data": {
            "text/html": [
              "<div>\n",
              "<style scoped>\n",
              "    .dataframe tbody tr th:only-of-type {\n",
              "        vertical-align: middle;\n",
              "    }\n",
              "\n",
              "    .dataframe tbody tr th {\n",
              "        vertical-align: top;\n",
              "    }\n",
              "\n",
              "    .dataframe thead th {\n",
              "        text-align: right;\n",
              "    }\n",
              "</style>\n",
              "<table border=\"1\" class=\"dataframe\">\n",
              "  <thead>\n",
              "    <tr style=\"text-align: right;\">\n",
              "      <th></th>\n",
              "      <th>loss</th>\n",
              "      <th>grad_norm</th>\n",
              "      <th>learning_rate</th>\n",
              "      <th>epoch</th>\n",
              "      <th>step</th>\n",
              "      <th>eval_loss</th>\n",
              "      <th>eval_mse</th>\n",
              "      <th>eval_accuracy-approximation</th>\n",
              "      <th>eval_f1-approximation</th>\n",
              "      <th>eval_runtime</th>\n",
              "      <th>eval_samples_per_second</th>\n",
              "      <th>eval_steps_per_second</th>\n",
              "      <th>train_runtime</th>\n",
              "      <th>train_samples_per_second</th>\n",
              "      <th>train_steps_per_second</th>\n",
              "      <th>total_flos</th>\n",
              "      <th>train_loss</th>\n",
              "    </tr>\n",
              "  </thead>\n",
              "  <tbody>\n",
              "    <tr>\n",
              "      <th>0</th>\n",
              "      <td>2.9050</td>\n",
              "      <td>95.690254</td>\n",
              "      <td>0.000019</td>\n",
              "      <td>0.29</td>\n",
              "      <td>500</td>\n",
              "      <td>NaN</td>\n",
              "      <td>NaN</td>\n",
              "      <td>NaN</td>\n",
              "      <td>NaN</td>\n",
              "      <td>NaN</td>\n",
              "      <td>NaN</td>\n",
              "      <td>NaN</td>\n",
              "      <td>NaN</td>\n",
              "      <td>NaN</td>\n",
              "      <td>NaN</td>\n",
              "      <td>NaN</td>\n",
              "      <td>NaN</td>\n",
              "    </tr>\n",
              "    <tr>\n",
              "      <th>1</th>\n",
              "      <td>2.4893</td>\n",
              "      <td>42.238045</td>\n",
              "      <td>0.000019</td>\n",
              "      <td>0.57</td>\n",
              "      <td>1000</td>\n",
              "      <td>NaN</td>\n",
              "      <td>NaN</td>\n",
              "      <td>NaN</td>\n",
              "      <td>NaN</td>\n",
              "      <td>NaN</td>\n",
              "      <td>NaN</td>\n",
              "      <td>NaN</td>\n",
              "      <td>NaN</td>\n",
              "      <td>NaN</td>\n",
              "      <td>NaN</td>\n",
              "      <td>NaN</td>\n",
              "      <td>NaN</td>\n",
              "    </tr>\n",
              "    <tr>\n",
              "      <th>2</th>\n",
              "      <td>2.6165</td>\n",
              "      <td>58.980175</td>\n",
              "      <td>0.000018</td>\n",
              "      <td>0.86</td>\n",
              "      <td>1500</td>\n",
              "      <td>NaN</td>\n",
              "      <td>NaN</td>\n",
              "      <td>NaN</td>\n",
              "      <td>NaN</td>\n",
              "      <td>NaN</td>\n",
              "      <td>NaN</td>\n",
              "      <td>NaN</td>\n",
              "      <td>NaN</td>\n",
              "      <td>NaN</td>\n",
              "      <td>NaN</td>\n",
              "      <td>NaN</td>\n",
              "      <td>NaN</td>\n",
              "    </tr>\n",
              "    <tr>\n",
              "      <th>3</th>\n",
              "      <td>NaN</td>\n",
              "      <td>NaN</td>\n",
              "      <td>NaN</td>\n",
              "      <td>1.00</td>\n",
              "      <td>1745</td>\n",
              "      <td>2.605164</td>\n",
              "      <td>2.605164</td>\n",
              "      <td>0.378827</td>\n",
              "      <td>0.273406</td>\n",
              "      <td>32.098</td>\n",
              "      <td>464.079</td>\n",
              "      <td>7.259</td>\n",
              "      <td>NaN</td>\n",
              "      <td>NaN</td>\n",
              "      <td>NaN</td>\n",
              "      <td>NaN</td>\n",
              "      <td>NaN</td>\n",
              "    </tr>\n",
              "    <tr>\n",
              "      <th>4</th>\n",
              "      <td>2.4085</td>\n",
              "      <td>22.057467</td>\n",
              "      <td>0.000018</td>\n",
              "      <td>1.15</td>\n",
              "      <td>2000</td>\n",
              "      <td>NaN</td>\n",
              "      <td>NaN</td>\n",
              "      <td>NaN</td>\n",
              "      <td>NaN</td>\n",
              "      <td>NaN</td>\n",
              "      <td>NaN</td>\n",
              "      <td>NaN</td>\n",
              "      <td>NaN</td>\n",
              "      <td>NaN</td>\n",
              "      <td>NaN</td>\n",
              "      <td>NaN</td>\n",
              "      <td>NaN</td>\n",
              "    </tr>\n",
              "  </tbody>\n",
              "</table>\n",
              "</div>"
            ],
            "text/plain": [
              "     loss  grad_norm  learning_rate  epoch  step  eval_loss  eval_mse  \\\n",
              "0  2.9050  95.690254       0.000019   0.29   500        NaN       NaN   \n",
              "1  2.4893  42.238045       0.000019   0.57  1000        NaN       NaN   \n",
              "2  2.6165  58.980175       0.000018   0.86  1500        NaN       NaN   \n",
              "3     NaN        NaN            NaN   1.00  1745   2.605164  2.605164   \n",
              "4  2.4085  22.057467       0.000018   1.15  2000        NaN       NaN   \n",
              "\n",
              "   eval_accuracy-approximation  eval_f1-approximation  eval_runtime  \\\n",
              "0                          NaN                    NaN           NaN   \n",
              "1                          NaN                    NaN           NaN   \n",
              "2                          NaN                    NaN           NaN   \n",
              "3                     0.378827               0.273406        32.098   \n",
              "4                          NaN                    NaN           NaN   \n",
              "\n",
              "   eval_samples_per_second  eval_steps_per_second  train_runtime  \\\n",
              "0                      NaN                    NaN            NaN   \n",
              "1                      NaN                    NaN            NaN   \n",
              "2                      NaN                    NaN            NaN   \n",
              "3                  464.079                  7.259            NaN   \n",
              "4                      NaN                    NaN            NaN   \n",
              "\n",
              "   train_samples_per_second  train_steps_per_second  total_flos  train_loss  \n",
              "0                       NaN                     NaN         NaN         NaN  \n",
              "1                       NaN                     NaN         NaN         NaN  \n",
              "2                       NaN                     NaN         NaN         NaN  \n",
              "3                       NaN                     NaN         NaN         NaN  \n",
              "4                       NaN                     NaN         NaN         NaN  "
            ]
          },
          "execution_count": 47,
          "metadata": {},
          "output_type": "execute_result"
        }
      ],
      "source": [
        "training_log = pd.DataFrame(trainer.state.log_history)\n",
        "training_log.head()"
      ]
    },
    {
      "cell_type": "code",
      "execution_count": 48,
      "metadata": {},
      "outputs": [
        {
          "data": {
            "image/png": "[encoded data removed]",
            "text/plain": [
              "<Figure size 640x480 with 1 Axes>"
            ]
          },
          "metadata": {},
          "output_type": "display_data"
        }
      ],
      "source": [
        "plt.plot(training_log[\"epoch\"], training_log[\"loss\"].fillna(0), label=\"Training Loss\")\n",
        "plt.plot(training_log[\"epoch\"], training_log[\"eval_loss\"].fillna(0), label=\"Validation Loss\")\n",
        "\n",
        "plt.legend(loc=\"best\")\n",
        "plt.show()"
      ]
    },
    {
      "cell_type": "code",
      "execution_count": 49,
      "metadata": {},
      "outputs": [
        {
          "data": {
            "image/png": "[encoded data removed]",
            "text/plain": [
              "<Figure size 640x480 with 1 Axes>"
            ]
          },
          "metadata": {},
          "output_type": "display_data"
        }
      ],
      "source": [
        "plt.plot(training_log[\"epoch\"], training_log[\"eval_accuracy-approximation\"].fillna(0), label=\"Validation Accuracy\")\n",
        "plt.legend(loc=\"best\")\n",
        "plt.show()"
      ]
    },
    {
      "cell_type": "code",
      "execution_count": 46,
      "metadata": {
        "colab": {
          "base_uri": "https://localhost:8080/",
          "height": 144
        },
        "id": "5wzZ4aHWxItY",
        "outputId": "14f0372e-e90f-44c7-bc0b-f71bf6271590"
      },
      "outputs": [
        {
          "name": "stderr",
          "output_type": "stream",
          "text": [
            "100%|██████████| 233/233 [00:50<00:00,  4.88it/s]"
          ]
        },
        {
          "name": "stdout",
          "output_type": "stream",
          "text": [
            "[ 1.  1.  8. ...  1. 10.  4.]\n"
          ]
        },
        {
          "name": "stderr",
          "output_type": "stream",
          "text": [
            "100%|██████████| 233/233 [00:51<00:00,  4.56it/s]\n"
          ]
        },
        {
          "data": {
            "text/plain": [
              "{'eval_loss': 2.0344936847686768,\n",
              " 'eval_mse': 2.0344936847686768,\n",
              " 'eval_accuracy-approximation': 0.5216836734693877,\n",
              " 'eval_f1-approximation': 0.4117950012247834,\n",
              " 'eval_runtime': 53.1525,\n",
              " 'eval_samples_per_second': 280.25,\n",
              " 'eval_steps_per_second': 4.384,\n",
              " 'epoch': 10.0}"
            ]
          },
          "execution_count": 46,
          "metadata": {},
          "output_type": "execute_result"
        }
      ],
      "source": [
        "trainer.evaluate()"
      ]
    },
    {
      "cell_type": "code",
      "execution_count": null,
      "metadata": {
        "id": "0Iigi0XYtV3q"
      },
      "outputs": [],
      "source": [
        "# local\n",
        "trainer.save_model(\"./bert-regression\") \n",
        "\n",
        "# colab\n",
        "# trainer.save_model(\"DrugReviewAnalysis/Model 3/bert-regression\")"
      ]
    },
    {
      "cell_type": "code",
      "execution_count": null,
      "metadata": {},
      "outputs": [],
      "source": [
        "# local\n",
        "# model = AutoModelForSequenceClassification.from_pretrained(\"bert-regression\")\n",
        "\n",
        "# colab\n",
        "# model = AutoModelForSequenceClassification.from_pretrained(\"DrugReviewAnalysis/Model 3/bert-regression\")\n",
        "\n",
        "# trainer = Trainer(\n",
        "#     model=model,\n",
        "#     args=args,\n",
        "#     train_dataset=encoded_dataset[\"train\"],\n",
        "#     eval_dataset=encoded_dataset[\"validation\"],\n",
        "#     tokenizer=tokenizer,\n",
        "#     compute_metrics=compute_metrics\n",
        "# )"
      ]
    },
    {
      "cell_type": "code",
      "execution_count": 51,
      "metadata": {
        "id": "_SNryXKAEuox"
      },
      "outputs": [
        {
          "name": "stderr",
          "output_type": "stream",
          "text": [
            "401it [01:27,  3.59it/s]                         "
          ]
        },
        {
          "name": "stdout",
          "output_type": "stream",
          "text": [
            "[10.  1.  1. ...  7.  6.  7.]\n"
          ]
        },
        {
          "name": "stderr",
          "output_type": "stream",
          "text": [
            "402it [01:27,  4.59it/s]\n"
          ]
        },
        {
          "data": {
            "text/plain": [
              "{'eval_loss': 2.011652708053589,\n",
              " 'eval_mse': 2.011652708053589,\n",
              " 'eval_accuracy-approximation': 0.5224668814894379,\n",
              " 'eval_f1-approximation': 0.4118035198430426,\n",
              " 'eval_runtime': 76.9358,\n",
              " 'eval_samples_per_second': 290.424,\n",
              " 'eval_steps_per_second': 4.549,\n",
              " 'epoch': 10.0}"
            ]
          },
          "execution_count": 51,
          "metadata": {},
          "output_type": "execute_result"
        }
      ],
      "source": [
        "trainer.evaluate(eval_dataset=encoded_dataset[\"test\"])"
      ]
    }
  ],
  "metadata": {
    "accelerator": "GPU",
    "colab": {
      "gpuType": "T4",
      "provenance": []
    },
    "kernelspec": {
      "display_name": "Python 3",
      "name": "python3"
    },
    "language_info": {
      "codemirror_mode": {
        "name": "ipython",
        "version": 3
      },
      "file_extension": ".py",
      "mimetype": "text/x-python",
      "name": "python",
      "nbconvert_exporter": "python",
      "pygments_lexer": "ipython3",
      "version": "3.11.0"
    },
    "orig_nbformat": 4,
    "vscode": {
      "interpreter": {
        "hash": "31f2aee4e71d21fbe5cf8b01ff0e069b9275f58929596ceb00d14d90e3e16cd6"
      }
    },
    "widgets": {
      "application/vnd.jupyter.widget-state+json": {
        "0cee2753b02d4c7cb160192e5f658860": {
          "model_module": "@jupyter-widgets/base",
          "model_module_version": "1.2.0",
          "model_name": "LayoutModel",
          "state": {
            "_model_module": "@jupyter-widgets/base",
            "_model_module_version": "1.2.0",
            "_model_name": "LayoutModel",
            "_view_count": null,
            "_view_module": "@jupyter-widgets/base",
            "_view_module_version": "1.2.0",
            "_view_name": "LayoutView",
            "align_content": null,
            "align_items": null,
            "align_self": null,
            "border": null,
            "bottom": null,
            "display": null,
            "flex": null,
            "flex_flow": null,
            "grid_area": null,
            "grid_auto_columns": null,
            "grid_auto_flow": null,
            "grid_auto_rows": null,
            "grid_column": null,
            "grid_gap": null,
            "grid_row": null,
            "grid_template_areas": null,
            "grid_template_columns": null,
            "grid_template_rows": null,
            "height": null,
            "justify_content": null,
            "justify_items": null,
            "left": null,
            "margin": null,
            "max_height": null,
            "max_width": null,
            "min_height": null,
            "min_width": null,
            "object_fit": null,
            "object_position": null,
            "order": null,
            "overflow": null,
            "overflow_x": null,
            "overflow_y": null,
            "padding": null,
            "right": null,
            "top": null,
            "visibility": null,
            "width": null
          }
        },
        "23c879bb52d844bbaec396663ea632ee": {
          "model_module": "@jupyter-widgets/controls",
          "model_module_version": "1.5.0",
          "model_name": "HTMLModel",
          "state": {
            "_dom_classes": [],
            "_model_module": "@jupyter-widgets/controls",
            "_model_module_version": "1.5.0",
            "_model_name": "HTMLModel",
            "_view_count": null,
            "_view_module": "@jupyter-widgets/controls",
            "_view_module_version": "1.5.0",
            "_view_name": "HTMLView",
            "description": "",
            "description_tooltip": null,
            "layout": "IPY_MODEL_36ea93140e20426c80e0d2d5f00744ce",
            "placeholder": "​",
            "style": "IPY_MODEL_6af741f237474471b04604ea7fb6abea",
            "value": " 2128/2128 [00:00&lt;00:00, 3965.89 examples/s]"
          }
        },
        "36ea93140e20426c80e0d2d5f00744ce": {
          "model_module": "@jupyter-widgets/base",
          "model_module_version": "1.2.0",
          "model_name": "LayoutModel",
          "state": {
            "_model_module": "@jupyter-widgets/base",
            "_model_module_version": "1.2.0",
            "_model_name": "LayoutModel",
            "_view_count": null,
            "_view_module": "@jupyter-widgets/base",
            "_view_module_version": "1.2.0",
            "_view_name": "LayoutView",
            "align_content": null,
            "align_items": null,
            "align_self": null,
            "border": null,
            "bottom": null,
            "display": null,
            "flex": null,
            "flex_flow": null,
            "grid_area": null,
            "grid_auto_columns": null,
            "grid_auto_flow": null,
            "grid_auto_rows": null,
            "grid_column": null,
            "grid_gap": null,
            "grid_row": null,
            "grid_template_areas": null,
            "grid_template_columns": null,
            "grid_template_rows": null,
            "height": null,
            "justify_content": null,
            "justify_items": null,
            "left": null,
            "margin": null,
            "max_height": null,
            "max_width": null,
            "min_height": null,
            "min_width": null,
            "object_fit": null,
            "object_position": null,
            "order": null,
            "overflow": null,
            "overflow_x": null,
            "overflow_y": null,
            "padding": null,
            "right": null,
            "top": null,
            "visibility": null,
            "width": null
          }
        },
        "3797acf78244495db3301dbf3ac0fb03": {
          "model_module": "@jupyter-widgets/controls",
          "model_module_version": "1.5.0",
          "model_name": "ProgressStyleModel",
          "state": {
            "_model_module": "@jupyter-widgets/controls",
            "_model_module_version": "1.5.0",
            "_model_name": "ProgressStyleModel",
            "_view_count": null,
            "_view_module": "@jupyter-widgets/base",
            "_view_module_version": "1.2.0",
            "_view_name": "StyleView",
            "bar_color": null,
            "description_width": ""
          }
        },
        "446fa1a6d7fb407da9f3bdbb5969fcf3": {
          "model_module": "@jupyter-widgets/controls",
          "model_module_version": "1.5.0",
          "model_name": "DescriptionStyleModel",
          "state": {
            "_model_module": "@jupyter-widgets/controls",
            "_model_module_version": "1.5.0",
            "_model_name": "DescriptionStyleModel",
            "_view_count": null,
            "_view_module": "@jupyter-widgets/base",
            "_view_module_version": "1.2.0",
            "_view_name": "StyleView",
            "description_width": ""
          }
        },
        "4580bcc82ac843e59c6b06e26fdaccbd": {
          "model_module": "@jupyter-widgets/controls",
          "model_module_version": "1.5.0",
          "model_name": "ProgressStyleModel",
          "state": {
            "_model_module": "@jupyter-widgets/controls",
            "_model_module_version": "1.5.0",
            "_model_name": "ProgressStyleModel",
            "_view_count": null,
            "_view_module": "@jupyter-widgets/base",
            "_view_module_version": "1.2.0",
            "_view_name": "StyleView",
            "bar_color": null,
            "description_width": ""
          }
        },
        "531d36b892c645cf83f87ecb55d7d210": {
          "model_module": "@jupyter-widgets/base",
          "model_module_version": "1.2.0",
          "model_name": "LayoutModel",
          "state": {
            "_model_module": "@jupyter-widgets/base",
            "_model_module_version": "1.2.0",
            "_model_name": "LayoutModel",
            "_view_count": null,
            "_view_module": "@jupyter-widgets/base",
            "_view_module_version": "1.2.0",
            "_view_name": "LayoutView",
            "align_content": null,
            "align_items": null,
            "align_self": null,
            "border": null,
            "bottom": null,
            "display": null,
            "flex": null,
            "flex_flow": null,
            "grid_area": null,
            "grid_auto_columns": null,
            "grid_auto_flow": null,
            "grid_auto_rows": null,
            "grid_column": null,
            "grid_gap": null,
            "grid_row": null,
            "grid_template_areas": null,
            "grid_template_columns": null,
            "grid_template_rows": null,
            "height": null,
            "justify_content": null,
            "justify_items": null,
            "left": null,
            "margin": null,
            "max_height": null,
            "max_width": null,
            "min_height": null,
            "min_width": null,
            "object_fit": null,
            "object_position": null,
            "order": null,
            "overflow": null,
            "overflow_x": null,
            "overflow_y": null,
            "padding": null,
            "right": null,
            "top": null,
            "visibility": null,
            "width": null
          }
        },
        "53ec3da773fe49bf8b1357d99c7a7595": {
          "model_module": "@jupyter-widgets/controls",
          "model_module_version": "1.5.0",
          "model_name": "HTMLModel",
          "state": {
            "_dom_classes": [],
            "_model_module": "@jupyter-widgets/controls",
            "_model_module_version": "1.5.0",
            "_model_name": "HTMLModel",
            "_view_count": null,
            "_view_module": "@jupyter-widgets/controls",
            "_view_module_version": "1.5.0",
            "_view_name": "HTMLView",
            "description": "",
            "description_tooltip": null,
            "layout": "IPY_MODEL_70628bc837704ddb8f947e6523d4b359",
            "placeholder": "​",
            "style": "IPY_MODEL_6d1ec46d841541a69c08c30185598c2b",
            "value": " 3192/3192 [00:00&lt;00:00, 4234.22 examples/s]"
          }
        },
        "551e305c425444a1b967b31e55f12a8f": {
          "model_module": "@jupyter-widgets/controls",
          "model_module_version": "1.5.0",
          "model_name": "HTMLModel",
          "state": {
            "_dom_classes": [],
            "_model_module": "@jupyter-widgets/controls",
            "_model_module_version": "1.5.0",
            "_model_name": "HTMLModel",
            "_view_count": null,
            "_view_module": "@jupyter-widgets/controls",
            "_view_module_version": "1.5.0",
            "_view_name": "HTMLView",
            "description": "",
            "description_tooltip": null,
            "layout": "IPY_MODEL_c2c635dfdce949b39579f375bfca5b6d",
            "placeholder": "​",
            "style": "IPY_MODEL_446fa1a6d7fb407da9f3bdbb5969fcf3",
            "value": " 15950/15950 [00:03&lt;00:00, 4078.20 examples/s]"
          }
        },
        "56d87b78d9fa447b9ad38febf254d461": {
          "model_module": "@jupyter-widgets/base",
          "model_module_version": "1.2.0",
          "model_name": "LayoutModel",
          "state": {
            "_model_module": "@jupyter-widgets/base",
            "_model_module_version": "1.2.0",
            "_model_name": "LayoutModel",
            "_view_count": null,
            "_view_module": "@jupyter-widgets/base",
            "_view_module_version": "1.2.0",
            "_view_name": "LayoutView",
            "align_content": null,
            "align_items": null,
            "align_self": null,
            "border": null,
            "bottom": null,
            "display": null,
            "flex": null,
            "flex_flow": null,
            "grid_area": null,
            "grid_auto_columns": null,
            "grid_auto_flow": null,
            "grid_auto_rows": null,
            "grid_column": null,
            "grid_gap": null,
            "grid_row": null,
            "grid_template_areas": null,
            "grid_template_columns": null,
            "grid_template_rows": null,
            "height": null,
            "justify_content": null,
            "justify_items": null,
            "left": null,
            "margin": null,
            "max_height": null,
            "max_width": null,
            "min_height": null,
            "min_width": null,
            "object_fit": null,
            "object_position": null,
            "order": null,
            "overflow": null,
            "overflow_x": null,
            "overflow_y": null,
            "padding": null,
            "right": null,
            "top": null,
            "visibility": null,
            "width": null
          }
        },
        "634ed335742a4697b66f9089c255e26e": {
          "model_module": "@jupyter-widgets/controls",
          "model_module_version": "1.5.0",
          "model_name": "FloatProgressModel",
          "state": {
            "_dom_classes": [],
            "_model_module": "@jupyter-widgets/controls",
            "_model_module_version": "1.5.0",
            "_model_name": "FloatProgressModel",
            "_view_count": null,
            "_view_module": "@jupyter-widgets/controls",
            "_view_module_version": "1.5.0",
            "_view_name": "ProgressView",
            "bar_style": "success",
            "description": "",
            "description_tooltip": null,
            "layout": "IPY_MODEL_c48f55d79eef42eeb0ffe6b20707d49c",
            "max": 15950,
            "min": 0,
            "orientation": "horizontal",
            "style": "IPY_MODEL_3797acf78244495db3301dbf3ac0fb03",
            "value": 15950
          }
        },
        "6af741f237474471b04604ea7fb6abea": {
          "model_module": "@jupyter-widgets/controls",
          "model_module_version": "1.5.0",
          "model_name": "DescriptionStyleModel",
          "state": {
            "_model_module": "@jupyter-widgets/controls",
            "_model_module_version": "1.5.0",
            "_model_name": "DescriptionStyleModel",
            "_view_count": null,
            "_view_module": "@jupyter-widgets/base",
            "_view_module_version": "1.2.0",
            "_view_name": "StyleView",
            "description_width": ""
          }
        },
        "6d1ec46d841541a69c08c30185598c2b": {
          "model_module": "@jupyter-widgets/controls",
          "model_module_version": "1.5.0",
          "model_name": "DescriptionStyleModel",
          "state": {
            "_model_module": "@jupyter-widgets/controls",
            "_model_module_version": "1.5.0",
            "_model_name": "DescriptionStyleModel",
            "_view_count": null,
            "_view_module": "@jupyter-widgets/base",
            "_view_module_version": "1.2.0",
            "_view_name": "StyleView",
            "description_width": ""
          }
        },
        "70628bc837704ddb8f947e6523d4b359": {
          "model_module": "@jupyter-widgets/base",
          "model_module_version": "1.2.0",
          "model_name": "LayoutModel",
          "state": {
            "_model_module": "@jupyter-widgets/base",
            "_model_module_version": "1.2.0",
            "_model_name": "LayoutModel",
            "_view_count": null,
            "_view_module": "@jupyter-widgets/base",
            "_view_module_version": "1.2.0",
            "_view_name": "LayoutView",
            "align_content": null,
            "align_items": null,
            "align_self": null,
            "border": null,
            "bottom": null,
            "display": null,
            "flex": null,
            "flex_flow": null,
            "grid_area": null,
            "grid_auto_columns": null,
            "grid_auto_flow": null,
            "grid_auto_rows": null,
            "grid_column": null,
            "grid_gap": null,
            "grid_row": null,
            "grid_template_areas": null,
            "grid_template_columns": null,
            "grid_template_rows": null,
            "height": null,
            "justify_content": null,
            "justify_items": null,
            "left": null,
            "margin": null,
            "max_height": null,
            "max_width": null,
            "min_height": null,
            "min_width": null,
            "object_fit": null,
            "object_position": null,
            "order": null,
            "overflow": null,
            "overflow_x": null,
            "overflow_y": null,
            "padding": null,
            "right": null,
            "top": null,
            "visibility": null,
            "width": null
          }
        },
        "7540dc0409ca4b5090e00cc1dcc5c238": {
          "model_module": "@jupyter-widgets/controls",
          "model_module_version": "1.5.0",
          "model_name": "FloatProgressModel",
          "state": {
            "_dom_classes": [],
            "_model_module": "@jupyter-widgets/controls",
            "_model_module_version": "1.5.0",
            "_model_name": "FloatProgressModel",
            "_view_count": null,
            "_view_module": "@jupyter-widgets/controls",
            "_view_module_version": "1.5.0",
            "_view_name": "ProgressView",
            "bar_style": "success",
            "description": "",
            "description_tooltip": null,
            "layout": "IPY_MODEL_bd1ea91833bc4c009b24a61a6e186013",
            "max": 2128,
            "min": 0,
            "orientation": "horizontal",
            "style": "IPY_MODEL_837a3d6ef3844aac9f30d8b46cb05a4b",
            "value": 2128
          }
        },
        "7785751a18734e6f83679ea7c74798f0": {
          "model_module": "@jupyter-widgets/controls",
          "model_module_version": "1.5.0",
          "model_name": "HBoxModel",
          "state": {
            "_dom_classes": [],
            "_model_module": "@jupyter-widgets/controls",
            "_model_module_version": "1.5.0",
            "_model_name": "HBoxModel",
            "_view_count": null,
            "_view_module": "@jupyter-widgets/controls",
            "_view_module_version": "1.5.0",
            "_view_name": "HBoxView",
            "box_style": "",
            "children": [
              "IPY_MODEL_c21d410014944bdb883729ff43407960",
              "IPY_MODEL_7540dc0409ca4b5090e00cc1dcc5c238",
              "IPY_MODEL_23c879bb52d844bbaec396663ea632ee"
            ],
            "layout": "IPY_MODEL_8e3e9abad12d4aa09c92811e65783339"
          }
        },
        "837a3d6ef3844aac9f30d8b46cb05a4b": {
          "model_module": "@jupyter-widgets/controls",
          "model_module_version": "1.5.0",
          "model_name": "ProgressStyleModel",
          "state": {
            "_model_module": "@jupyter-widgets/controls",
            "_model_module_version": "1.5.0",
            "_model_name": "ProgressStyleModel",
            "_view_count": null,
            "_view_module": "@jupyter-widgets/base",
            "_view_module_version": "1.2.0",
            "_view_name": "StyleView",
            "bar_color": null,
            "description_width": ""
          }
        },
        "8e3e9abad12d4aa09c92811e65783339": {
          "model_module": "@jupyter-widgets/base",
          "model_module_version": "1.2.0",
          "model_name": "LayoutModel",
          "state": {
            "_model_module": "@jupyter-widgets/base",
            "_model_module_version": "1.2.0",
            "_model_name": "LayoutModel",
            "_view_count": null,
            "_view_module": "@jupyter-widgets/base",
            "_view_module_version": "1.2.0",
            "_view_name": "LayoutView",
            "align_content": null,
            "align_items": null,
            "align_self": null,
            "border": null,
            "bottom": null,
            "display": null,
            "flex": null,
            "flex_flow": null,
            "grid_area": null,
            "grid_auto_columns": null,
            "grid_auto_flow": null,
            "grid_auto_rows": null,
            "grid_column": null,
            "grid_gap": null,
            "grid_row": null,
            "grid_template_areas": null,
            "grid_template_columns": null,
            "grid_template_rows": null,
            "height": null,
            "justify_content": null,
            "justify_items": null,
            "left": null,
            "margin": null,
            "max_height": null,
            "max_width": null,
            "min_height": null,
            "min_width": null,
            "object_fit": null,
            "object_position": null,
            "order": null,
            "overflow": null,
            "overflow_x": null,
            "overflow_y": null,
            "padding": null,
            "right": null,
            "top": null,
            "visibility": null,
            "width": null
          }
        },
        "9cb67a27639844b5a897cd47b2854186": {
          "model_module": "@jupyter-widgets/base",
          "model_module_version": "1.2.0",
          "model_name": "LayoutModel",
          "state": {
            "_model_module": "@jupyter-widgets/base",
            "_model_module_version": "1.2.0",
            "_model_name": "LayoutModel",
            "_view_count": null,
            "_view_module": "@jupyter-widgets/base",
            "_view_module_version": "1.2.0",
            "_view_name": "LayoutView",
            "align_content": null,
            "align_items": null,
            "align_self": null,
            "border": null,
            "bottom": null,
            "display": null,
            "flex": null,
            "flex_flow": null,
            "grid_area": null,
            "grid_auto_columns": null,
            "grid_auto_flow": null,
            "grid_auto_rows": null,
            "grid_column": null,
            "grid_gap": null,
            "grid_row": null,
            "grid_template_areas": null,
            "grid_template_columns": null,
            "grid_template_rows": null,
            "height": null,
            "justify_content": null,
            "justify_items": null,
            "left": null,
            "margin": null,
            "max_height": null,
            "max_width": null,
            "min_height": null,
            "min_width": null,
            "object_fit": null,
            "object_position": null,
            "order": null,
            "overflow": null,
            "overflow_x": null,
            "overflow_y": null,
            "padding": null,
            "right": null,
            "top": null,
            "visibility": null,
            "width": null
          }
        },
        "a26e6952b58b4186b63029020bdf3d36": {
          "model_module": "@jupyter-widgets/controls",
          "model_module_version": "1.5.0",
          "model_name": "HBoxModel",
          "state": {
            "_dom_classes": [],
            "_model_module": "@jupyter-widgets/controls",
            "_model_module_version": "1.5.0",
            "_model_name": "HBoxModel",
            "_view_count": null,
            "_view_module": "@jupyter-widgets/controls",
            "_view_module_version": "1.5.0",
            "_view_name": "HBoxView",
            "box_style": "",
            "children": [
              "IPY_MODEL_aeea8a49f56348f8b2a227d43fe7c4ee",
              "IPY_MODEL_634ed335742a4697b66f9089c255e26e",
              "IPY_MODEL_551e305c425444a1b967b31e55f12a8f"
            ],
            "layout": "IPY_MODEL_531d36b892c645cf83f87ecb55d7d210"
          }
        },
        "a4b982fe71be44f89bb18eb8060a570c": {
          "model_module": "@jupyter-widgets/base",
          "model_module_version": "1.2.0",
          "model_name": "LayoutModel",
          "state": {
            "_model_module": "@jupyter-widgets/base",
            "_model_module_version": "1.2.0",
            "_model_name": "LayoutModel",
            "_view_count": null,
            "_view_module": "@jupyter-widgets/base",
            "_view_module_version": "1.2.0",
            "_view_name": "LayoutView",
            "align_content": null,
            "align_items": null,
            "align_self": null,
            "border": null,
            "bottom": null,
            "display": null,
            "flex": null,
            "flex_flow": null,
            "grid_area": null,
            "grid_auto_columns": null,
            "grid_auto_flow": null,
            "grid_auto_rows": null,
            "grid_column": null,
            "grid_gap": null,
            "grid_row": null,
            "grid_template_areas": null,
            "grid_template_columns": null,
            "grid_template_rows": null,
            "height": null,
            "justify_content": null,
            "justify_items": null,
            "left": null,
            "margin": null,
            "max_height": null,
            "max_width": null,
            "min_height": null,
            "min_width": null,
            "object_fit": null,
            "object_position": null,
            "order": null,
            "overflow": null,
            "overflow_x": null,
            "overflow_y": null,
            "padding": null,
            "right": null,
            "top": null,
            "visibility": null,
            "width": null
          }
        },
        "a7e0f0c5ff164d1b85a2c0ff119554cc": {
          "model_module": "@jupyter-widgets/base",
          "model_module_version": "1.2.0",
          "model_name": "LayoutModel",
          "state": {
            "_model_module": "@jupyter-widgets/base",
            "_model_module_version": "1.2.0",
            "_model_name": "LayoutModel",
            "_view_count": null,
            "_view_module": "@jupyter-widgets/base",
            "_view_module_version": "1.2.0",
            "_view_name": "LayoutView",
            "align_content": null,
            "align_items": null,
            "align_self": null,
            "border": null,
            "bottom": null,
            "display": null,
            "flex": null,
            "flex_flow": null,
            "grid_area": null,
            "grid_auto_columns": null,
            "grid_auto_flow": null,
            "grid_auto_rows": null,
            "grid_column": null,
            "grid_gap": null,
            "grid_row": null,
            "grid_template_areas": null,
            "grid_template_columns": null,
            "grid_template_rows": null,
            "height": null,
            "justify_content": null,
            "justify_items": null,
            "left": null,
            "margin": null,
            "max_height": null,
            "max_width": null,
            "min_height": null,
            "min_width": null,
            "object_fit": null,
            "object_position": null,
            "order": null,
            "overflow": null,
            "overflow_x": null,
            "overflow_y": null,
            "padding": null,
            "right": null,
            "top": null,
            "visibility": null,
            "width": null
          }
        },
        "aeabb732aa9841729e4bf2b2c55dc71b": {
          "model_module": "@jupyter-widgets/controls",
          "model_module_version": "1.5.0",
          "model_name": "FloatProgressModel",
          "state": {
            "_dom_classes": [],
            "_model_module": "@jupyter-widgets/controls",
            "_model_module_version": "1.5.0",
            "_model_name": "FloatProgressModel",
            "_view_count": null,
            "_view_module": "@jupyter-widgets/controls",
            "_view_module_version": "1.5.0",
            "_view_name": "ProgressView",
            "bar_style": "success",
            "description": "",
            "description_tooltip": null,
            "layout": "IPY_MODEL_a7e0f0c5ff164d1b85a2c0ff119554cc",
            "max": 3192,
            "min": 0,
            "orientation": "horizontal",
            "style": "IPY_MODEL_4580bcc82ac843e59c6b06e26fdaccbd",
            "value": 3192
          }
        },
        "aeea8a49f56348f8b2a227d43fe7c4ee": {
          "model_module": "@jupyter-widgets/controls",
          "model_module_version": "1.5.0",
          "model_name": "HTMLModel",
          "state": {
            "_dom_classes": [],
            "_model_module": "@jupyter-widgets/controls",
            "_model_module_version": "1.5.0",
            "_model_name": "HTMLModel",
            "_view_count": null,
            "_view_module": "@jupyter-widgets/controls",
            "_view_module_version": "1.5.0",
            "_view_name": "HTMLView",
            "description": "",
            "description_tooltip": null,
            "layout": "IPY_MODEL_0cee2753b02d4c7cb160192e5f658860",
            "placeholder": "​",
            "style": "IPY_MODEL_cf456295d398488b9337247e7ff6590c",
            "value": "Map: 100%"
          }
        },
        "bd1ea91833bc4c009b24a61a6e186013": {
          "model_module": "@jupyter-widgets/base",
          "model_module_version": "1.2.0",
          "model_name": "LayoutModel",
          "state": {
            "_model_module": "@jupyter-widgets/base",
            "_model_module_version": "1.2.0",
            "_model_name": "LayoutModel",
            "_view_count": null,
            "_view_module": "@jupyter-widgets/base",
            "_view_module_version": "1.2.0",
            "_view_name": "LayoutView",
            "align_content": null,
            "align_items": null,
            "align_self": null,
            "border": null,
            "bottom": null,
            "display": null,
            "flex": null,
            "flex_flow": null,
            "grid_area": null,
            "grid_auto_columns": null,
            "grid_auto_flow": null,
            "grid_auto_rows": null,
            "grid_column": null,
            "grid_gap": null,
            "grid_row": null,
            "grid_template_areas": null,
            "grid_template_columns": null,
            "grid_template_rows": null,
            "height": null,
            "justify_content": null,
            "justify_items": null,
            "left": null,
            "margin": null,
            "max_height": null,
            "max_width": null,
            "min_height": null,
            "min_width": null,
            "object_fit": null,
            "object_position": null,
            "order": null,
            "overflow": null,
            "overflow_x": null,
            "overflow_y": null,
            "padding": null,
            "right": null,
            "top": null,
            "visibility": null,
            "width": null
          }
        },
        "c111663097ff41799c43d3de462b9c59": {
          "model_module": "@jupyter-widgets/controls",
          "model_module_version": "1.5.0",
          "model_name": "DescriptionStyleModel",
          "state": {
            "_model_module": "@jupyter-widgets/controls",
            "_model_module_version": "1.5.0",
            "_model_name": "DescriptionStyleModel",
            "_view_count": null,
            "_view_module": "@jupyter-widgets/base",
            "_view_module_version": "1.2.0",
            "_view_name": "StyleView",
            "description_width": ""
          }
        },
        "c21d410014944bdb883729ff43407960": {
          "model_module": "@jupyter-widgets/controls",
          "model_module_version": "1.5.0",
          "model_name": "HTMLModel",
          "state": {
            "_dom_classes": [],
            "_model_module": "@jupyter-widgets/controls",
            "_model_module_version": "1.5.0",
            "_model_name": "HTMLModel",
            "_view_count": null,
            "_view_module": "@jupyter-widgets/controls",
            "_view_module_version": "1.5.0",
            "_view_name": "HTMLView",
            "description": "",
            "description_tooltip": null,
            "layout": "IPY_MODEL_9cb67a27639844b5a897cd47b2854186",
            "placeholder": "​",
            "style": "IPY_MODEL_c111663097ff41799c43d3de462b9c59",
            "value": "Map: 100%"
          }
        },
        "c2c635dfdce949b39579f375bfca5b6d": {
          "model_module": "@jupyter-widgets/base",
          "model_module_version": "1.2.0",
          "model_name": "LayoutModel",
          "state": {
            "_model_module": "@jupyter-widgets/base",
            "_model_module_version": "1.2.0",
            "_model_name": "LayoutModel",
            "_view_count": null,
            "_view_module": "@jupyter-widgets/base",
            "_view_module_version": "1.2.0",
            "_view_name": "LayoutView",
            "align_content": null,
            "align_items": null,
            "align_self": null,
            "border": null,
            "bottom": null,
            "display": null,
            "flex": null,
            "flex_flow": null,
            "grid_area": null,
            "grid_auto_columns": null,
            "grid_auto_flow": null,
            "grid_auto_rows": null,
            "grid_column": null,
            "grid_gap": null,
            "grid_row": null,
            "grid_template_areas": null,
            "grid_template_columns": null,
            "grid_template_rows": null,
            "height": null,
            "justify_content": null,
            "justify_items": null,
            "left": null,
            "margin": null,
            "max_height": null,
            "max_width": null,
            "min_height": null,
            "min_width": null,
            "object_fit": null,
            "object_position": null,
            "order": null,
            "overflow": null,
            "overflow_x": null,
            "overflow_y": null,
            "padding": null,
            "right": null,
            "top": null,
            "visibility": null,
            "width": null
          }
        },
        "c3a36bb9213740538333b7c118a78c5d": {
          "model_module": "@jupyter-widgets/controls",
          "model_module_version": "1.5.0",
          "model_name": "HBoxModel",
          "state": {
            "_dom_classes": [],
            "_model_module": "@jupyter-widgets/controls",
            "_model_module_version": "1.5.0",
            "_model_name": "HBoxModel",
            "_view_count": null,
            "_view_module": "@jupyter-widgets/controls",
            "_view_module_version": "1.5.0",
            "_view_name": "HBoxView",
            "box_style": "",
            "children": [
              "IPY_MODEL_e46507eb9c104d5abe941fe934115235",
              "IPY_MODEL_aeabb732aa9841729e4bf2b2c55dc71b",
              "IPY_MODEL_53ec3da773fe49bf8b1357d99c7a7595"
            ],
            "layout": "IPY_MODEL_a4b982fe71be44f89bb18eb8060a570c"
          }
        },
        "c48f55d79eef42eeb0ffe6b20707d49c": {
          "model_module": "@jupyter-widgets/base",
          "model_module_version": "1.2.0",
          "model_name": "LayoutModel",
          "state": {
            "_model_module": "@jupyter-widgets/base",
            "_model_module_version": "1.2.0",
            "_model_name": "LayoutModel",
            "_view_count": null,
            "_view_module": "@jupyter-widgets/base",
            "_view_module_version": "1.2.0",
            "_view_name": "LayoutView",
            "align_content": null,
            "align_items": null,
            "align_self": null,
            "border": null,
            "bottom": null,
            "display": null,
            "flex": null,
            "flex_flow": null,
            "grid_area": null,
            "grid_auto_columns": null,
            "grid_auto_flow": null,
            "grid_auto_rows": null,
            "grid_column": null,
            "grid_gap": null,
            "grid_row": null,
            "grid_template_areas": null,
            "grid_template_columns": null,
            "grid_template_rows": null,
            "height": null,
            "justify_content": null,
            "justify_items": null,
            "left": null,
            "margin": null,
            "max_height": null,
            "max_width": null,
            "min_height": null,
            "min_width": null,
            "object_fit": null,
            "object_position": null,
            "order": null,
            "overflow": null,
            "overflow_x": null,
            "overflow_y": null,
            "padding": null,
            "right": null,
            "top": null,
            "visibility": null,
            "width": null
          }
        },
        "ce1889791b5b43c39782a02207db1c98": {
          "model_module": "@jupyter-widgets/controls",
          "model_module_version": "1.5.0",
          "model_name": "DescriptionStyleModel",
          "state": {
            "_model_module": "@jupyter-widgets/controls",
            "_model_module_version": "1.5.0",
            "_model_name": "DescriptionStyleModel",
            "_view_count": null,
            "_view_module": "@jupyter-widgets/base",
            "_view_module_version": "1.2.0",
            "_view_name": "StyleView",
            "description_width": ""
          }
        },
        "cf456295d398488b9337247e7ff6590c": {
          "model_module": "@jupyter-widgets/controls",
          "model_module_version": "1.5.0",
          "model_name": "DescriptionStyleModel",
          "state": {
            "_model_module": "@jupyter-widgets/controls",
            "_model_module_version": "1.5.0",
            "_model_name": "DescriptionStyleModel",
            "_view_count": null,
            "_view_module": "@jupyter-widgets/base",
            "_view_module_version": "1.2.0",
            "_view_name": "StyleView",
            "description_width": ""
          }
        },
        "e46507eb9c104d5abe941fe934115235": {
          "model_module": "@jupyter-widgets/controls",
          "model_module_version": "1.5.0",
          "model_name": "HTMLModel",
          "state": {
            "_dom_classes": [],
            "_model_module": "@jupyter-widgets/controls",
            "_model_module_version": "1.5.0",
            "_model_name": "HTMLModel",
            "_view_count": null,
            "_view_module": "@jupyter-widgets/controls",
            "_view_module_version": "1.5.0",
            "_view_name": "HTMLView",
            "description": "",
            "description_tooltip": null,
            "layout": "IPY_MODEL_56d87b78d9fa447b9ad38febf254d461",
            "placeholder": "​",
            "style": "IPY_MODEL_ce1889791b5b43c39782a02207db1c98",
            "value": "Map: 100%"
          }
        }
      }
    }
  },
  "nbformat": 4,
  "nbformat_minor": 0
}
