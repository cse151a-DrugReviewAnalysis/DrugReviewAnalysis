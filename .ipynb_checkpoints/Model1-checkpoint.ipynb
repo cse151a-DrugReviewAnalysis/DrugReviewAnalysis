{
 "cells": [
  {
   "cell_type": "code",
   "execution_count": 39,
   "metadata": {},
   "outputs": [],
   "source": [
    "import numpy as np\n",
    "import pandas as pd\n",
    "import seaborn as sns\n",
    "from sklearn.compose import ColumnTransformer\n",
    "from sklearn.feature_extraction.text import TfidfVectorizer\n",
    "from sklearn.preprocessing import StandardScaler, OneHotEncoder\n",
    "from sklearn.pipeline import Pipeline\n",
    "from sklearn.linear_model import LogisticRegression\n",
    "from sklearn.metrics import classification_report\n",
    "from sklearn.linear_model import LinearRegression\n",
    "from sklearn.tree import DecisionTreeRegressor\n",
    "from sklearn.model_selection import cross_validate\n",
    "import matplotlib.pyplot as plt\n",
    "\n",
    "from sklearn.tree import DecisionTreeClassifier\n",
    "from sklearn.ensemble import RandomForestClassifier\n",
    "from sklearn.svm import SVC\n",
    "from sklearn.neighbors import KNeighborsClassifier"
   ]
  },
  {
   "cell_type": "code",
   "execution_count": 5,
   "metadata": {},
   "outputs": [],
   "source": [
    "df_train = pd.read_csv(\"drugsTrain_processed.csv\", sep=\"\\t\")\n",
    "df_test = pd.read_csv(\"drugsTest_processed.csv\", sep=\"\\t\")"
   ]
  },
  {
   "cell_type": "code",
   "execution_count": 6,
   "metadata": {},
   "outputs": [],
   "source": [
    "# df_train = pd.read_csv(\"DrugReviewAnalysis/drugsTrain_processed.csv\", sep=\"\\t\")\n",
    "# df_test = pd.read_csv(\"DrugReviewAnalysis/drugsTest_processed.csv\", sep=\"\\t\")"
   ]
  },
  {
   "cell_type": "code",
   "execution_count": 7,
   "metadata": {},
   "outputs": [],
   "source": [
    "X_train = df_train.drop(columns=[\"rating\"])\n",
    "y_train = df_train[\"rating\"]\n",
    "\n",
    "X_test = df_test.drop(columns=[\"rating\"])\n",
    "y_test = df_test[\"rating\"]"
   ]
  },
  {
   "cell_type": "code",
   "execution_count": 14,
   "metadata": {},
   "outputs": [
    {
     "data": {
      "text/html": [
       "<div>\n",
       "<style scoped>\n",
       "    .dataframe tbody tr th:only-of-type {\n",
       "        vertical-align: middle;\n",
       "    }\n",
       "\n",
       "    .dataframe tbody tr th {\n",
       "        vertical-align: top;\n",
       "    }\n",
       "\n",
       "    .dataframe thead th {\n",
       "        text-align: right;\n",
       "    }\n",
       "</style>\n",
       "<table border=\"1\" class=\"dataframe\">\n",
       "  <thead>\n",
       "    <tr style=\"text-align: right;\">\n",
       "      <th></th>\n",
       "      <th>drugName</th>\n",
       "      <th>condition</th>\n",
       "      <th>rating</th>\n",
       "      <th>date</th>\n",
       "      <th>usefulCount</th>\n",
       "      <th>timestamp</th>\n",
       "      <th>processed_review</th>\n",
       "    </tr>\n",
       "  </thead>\n",
       "  <tbody>\n",
       "    <tr>\n",
       "      <th>0</th>\n",
       "      <td>valsartan</td>\n",
       "      <td>left ventricular dysfunction</td>\n",
       "      <td>9.0</td>\n",
       "      <td>May 20, 2012</td>\n",
       "      <td>27</td>\n",
       "      <td>2012-05-20</td>\n",
       "      <td>side effect take combination bystolic 5 mg fi...</td>\n",
       "    </tr>\n",
       "    <tr>\n",
       "      <th>1</th>\n",
       "      <td>guanfacine</td>\n",
       "      <td>adhd</td>\n",
       "      <td>8.0</td>\n",
       "      <td>April 27, 2010</td>\n",
       "      <td>192</td>\n",
       "      <td>2010-04-27</td>\n",
       "      <td>son halfway fourth week intuniv became concer...</td>\n",
       "    </tr>\n",
       "    <tr>\n",
       "      <th>2</th>\n",
       "      <td>lybrel</td>\n",
       "      <td>birth control</td>\n",
       "      <td>5.0</td>\n",
       "      <td>December 14, 2009</td>\n",
       "      <td>17</td>\n",
       "      <td>2009-12-14</td>\n",
       "      <td>used take another oral contraceptive 21 pill ...</td>\n",
       "    </tr>\n",
       "    <tr>\n",
       "      <th>3</th>\n",
       "      <td>ortho evra</td>\n",
       "      <td>birth control</td>\n",
       "      <td>8.0</td>\n",
       "      <td>November 3, 2015</td>\n",
       "      <td>10</td>\n",
       "      <td>2015-11-03</td>\n",
       "      <td>first time using form birth control m glad we...</td>\n",
       "    </tr>\n",
       "    <tr>\n",
       "      <th>4</th>\n",
       "      <td>buprenorphine / naloxone</td>\n",
       "      <td>opiate dependence</td>\n",
       "      <td>9.0</td>\n",
       "      <td>November 27, 2016</td>\n",
       "      <td>37</td>\n",
       "      <td>2016-11-27</td>\n",
       "      <td>suboxone completely turned life around feel h...</td>\n",
       "    </tr>\n",
       "  </tbody>\n",
       "</table>\n",
       "</div>"
      ],
      "text/plain": [
       "                   drugName                     condition  rating  \\\n",
       "0                 valsartan  left ventricular dysfunction     9.0   \n",
       "1                guanfacine                          adhd     8.0   \n",
       "2                    lybrel                 birth control     5.0   \n",
       "3                ortho evra                 birth control     8.0   \n",
       "4  buprenorphine / naloxone             opiate dependence     9.0   \n",
       "\n",
       "                date  usefulCount   timestamp  \\\n",
       "0       May 20, 2012           27  2012-05-20   \n",
       "1     April 27, 2010          192  2010-04-27   \n",
       "2  December 14, 2009           17  2009-12-14   \n",
       "3   November 3, 2015           10  2015-11-03   \n",
       "4  November 27, 2016           37  2016-11-27   \n",
       "\n",
       "                                    processed_review  \n",
       "0   side effect take combination bystolic 5 mg fi...  \n",
       "1   son halfway fourth week intuniv became concer...  \n",
       "2   used take another oral contraceptive 21 pill ...  \n",
       "3   first time using form birth control m glad we...  \n",
       "4   suboxone completely turned life around feel h...  "
      ]
     },
     "execution_count": 14,
     "metadata": {},
     "output_type": "execute_result"
    }
   ],
   "source": [
    "df_train.head()"
   ]
  },
  {
   "cell_type": "code",
   "execution_count": 12,
   "metadata": {},
   "outputs": [
    {
     "data": {
      "text/plain": [
       "rating\n",
       "10.0    50504\n",
       "9.0     27219\n",
       "1.0     21391\n",
       "8.0     18688\n",
       "7.0      9338\n",
       "5.0      7907\n",
       "2.0      6833\n",
       "3.0      6422\n",
       "6.0      6254\n",
       "4.0      4942\n",
       "Name: count, dtype: int64"
      ]
     },
     "execution_count": 12,
     "metadata": {},
     "output_type": "execute_result"
    }
   ],
   "source": [
    "y_train.value_counts()"
   ]
  },
  {
   "cell_type": "code",
   "execution_count": 40,
   "metadata": {},
   "outputs": [
    {
     "name": "stdout",
     "output_type": "stream",
     "text": [
      "Pipeline(steps=[('preprocessor',\n",
      "                 ColumnTransformer(transformers=[('text', TfidfVectorizer(),\n",
      "                                                  'processed_review'),\n",
      "                                                 ('numeric', StandardScaler(),\n",
      "                                                  ['usefulCount']),\n",
      "                                                 ('categorical',\n",
      "                                                  OneHotEncoder(handle_unknown='ignore'),\n",
      "                                                  ['drugName', 'condition'])])),\n",
      "                ('classifier', DecisionTreeClassifier())])\n"
     ]
    }
   ],
   "source": [
    "# Feature engineering and model 1\n",
    "preprocessor = ColumnTransformer(\n",
    "    transformers=[\n",
    "        ('text', TfidfVectorizer(), 'processed_review'),\n",
    "        ('numeric', StandardScaler(), ['usefulCount']),\n",
    "        ('categorical', OneHotEncoder(handle_unknown='ignore'), ['drugName','condition'])\n",
    "    ],\n",
    "    remainder='drop'\n",
    ")\n",
    "\n",
    "# Choose the models\n",
    "pipeline = Pipeline([\n",
    "    ('preprocessor', preprocessor),\n",
    "#     ('classifier', LogisticRegression(max_iter=1000, n_jobs=-1, verbose=0)),\n",
    "    ('classifier', DecisionTreeClassifier()),\n",
    "    # ('classifier', RandomForestClassifier(n_estimators=100)),\n",
    "    # ('classifier', SVC()),\n",
    "    # ('classifier', KNeighborsClassifier(n_neighbors=5))\n",
    "])\n",
    "\n",
    "print(pipeline)"
   ]
  },
  {
   "cell_type": "code",
   "execution_count": 41,
   "metadata": {},
   "outputs": [
    {
     "name": "stdout",
     "output_type": "stream",
     "text": [
      "Train accuracy: 0.9999623819734417\n",
      "Test accuracy: 0.6981390977443609\n"
     ]
    },
    {
     "data": {
      "text/plain": [
       "Pipeline(steps=[('preprocessor',\n",
       "                 ColumnTransformer(transformers=[('text', TfidfVectorizer(),\n",
       "                                                  'processed_review'),\n",
       "                                                 ('numeric', StandardScaler(),\n",
       "                                                  ['usefulCount']),\n",
       "                                                 ('categorical',\n",
       "                                                  OneHotEncoder(handle_unknown='ignore'),\n",
       "                                                  ['drugName', 'condition'])])),\n",
       "                ('classifier', DecisionTreeClassifier())])"
      ]
     },
     "execution_count": 41,
     "metadata": {},
     "output_type": "execute_result"
    }
   ],
   "source": [
    "# Fit the model and report the accuracy\n",
    "pipe = pipeline.fit(X_train, y_train)\n",
    "print(f\"Train accuracy: {pipe.score(X_train, y_train)}\")\n",
    "print(f\"Test accuracy: {pipe.score(X_test, y_test)}\")\n",
    "pipe"
   ]
  },
  {
   "cell_type": "code",
   "execution_count": 42,
   "metadata": {},
   "outputs": [
    {
     "name": "stdout",
     "output_type": "stream",
     "text": [
      "              precision    recall  f1-score   support\n",
      "\n",
      "         1.0       0.72      0.69      0.71      7547\n",
      "         2.0       0.64      0.68      0.66      2183\n",
      "         3.0       0.63      0.68      0.65      2039\n",
      "         4.0       0.63      0.67      0.65      1522\n",
      "         5.0       0.62      0.67      0.64      2493\n",
      "         6.0       0.60      0.66      0.63      1908\n",
      "         7.0       0.60      0.63      0.61      2878\n",
      "         8.0       0.65      0.65      0.65      6072\n",
      "         9.0       0.67      0.67      0.67      9013\n",
      "        10.0       0.79      0.75      0.77     17545\n",
      "\n",
      "    accuracy                           0.70     53200\n",
      "   macro avg       0.66      0.68      0.67     53200\n",
      "weighted avg       0.70      0.70      0.70     53200\n",
      "\n"
     ]
    }
   ],
   "source": [
    "# Testing classification report \n",
    "y_pred = pipe.predict(X_test)\n",
    "print(classification_report(y_pred, y_test))"
   ]
  },
  {
   "cell_type": "code",
   "execution_count": 43,
   "metadata": {},
   "outputs": [
    {
     "name": "stdout",
     "output_type": "stream",
     "text": [
      "              precision    recall  f1-score   support\n",
      "\n",
      "         1.0       1.00      1.00      1.00     21391\n",
      "         2.0       1.00      1.00      1.00      6834\n",
      "         3.0       1.00      1.00      1.00      6421\n",
      "         4.0       1.00      1.00      1.00      4942\n",
      "         5.0       1.00      1.00      1.00      7909\n",
      "         6.0       1.00      1.00      1.00      6255\n",
      "         7.0       1.00      1.00      1.00      9338\n",
      "         8.0       1.00      1.00      1.00     18687\n",
      "         9.0       1.00      1.00      1.00     27219\n",
      "        10.0       1.00      1.00      1.00     50502\n",
      "\n",
      "    accuracy                           1.00    159498\n",
      "   macro avg       1.00      1.00      1.00    159498\n",
      "weighted avg       1.00      1.00      1.00    159498\n",
      "\n"
     ]
    }
   ],
   "source": [
    "# Training classification report \n",
    "y_pred = pipe.predict(X_train)\n",
    "print(classification_report(y_pred, y_train))"
   ]
  },
  {
   "cell_type": "code",
   "execution_count": null,
   "metadata": {},
   "outputs": [],
   "source": []
  },
  {
   "cell_type": "code",
   "execution_count": null,
   "metadata": {},
   "outputs": [],
   "source": []
  },
  {
   "cell_type": "code",
   "execution_count": null,
   "metadata": {},
   "outputs": [],
   "source": []
  }
 ],
 "metadata": {
  "kernelspec": {
   "display_name": "Python 3 (ipykernel)",
   "language": "python",
   "name": "python3"
  },
  "language_info": {
   "codemirror_mode": {
    "name": "ipython",
    "version": 3
   },
   "file_extension": ".py",
   "mimetype": "text/x-python",
   "name": "python",
   "nbconvert_exporter": "python",
   "pygments_lexer": "ipython3",
   "version": "3.9.5"
  },
  "vscode": {
   "interpreter": {
    "hash": "31f2aee4e71d21fbe5cf8b01ff0e069b9275f58929596ceb00d14d90e3e16cd6"
   }
  }
 },
 "nbformat": 4,
 "nbformat_minor": 2
}
